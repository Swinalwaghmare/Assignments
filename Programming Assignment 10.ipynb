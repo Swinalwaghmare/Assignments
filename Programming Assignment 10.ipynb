{
 "cells": [
  {
   "cell_type": "markdown",
   "id": "04a1139b",
   "metadata": {},
   "source": [
    "#### 1. Write a Python program to find sum of elements in list?\n"
   ]
  },
  {
   "cell_type": "code",
   "execution_count": 1,
   "id": "58628ee6",
   "metadata": {},
   "outputs": [
    {
     "name": "stdout",
     "output_type": "stream",
     "text": [
      "Original list:  [45, 65, 89, 12, 45, 65, 98, 46, 659, 8]\n",
      "Sum of all the elements:  1132\n"
     ]
    }
   ],
   "source": [
    "l = [45,65,89,12,45,65,98,46,659,8]\n",
    "sum = 0\n",
    "for i in l:\n",
    "    sum = sum + i\n",
    "\n",
    "print(\"Original list: \",l)\n",
    "print(\"Sum of all the elements: \",sum)"
   ]
  },
  {
   "cell_type": "markdown",
   "id": "35b79efe",
   "metadata": {},
   "source": [
    "#### 2. Write a Python program to Multiply all numbers in the list?"
   ]
  },
  {
   "cell_type": "code",
   "execution_count": 2,
   "id": "8704096e",
   "metadata": {},
   "outputs": [
    {
     "name": "stdout",
     "output_type": "stream",
     "text": [
      "Original list:  [8, 5, 6, 9, 7, 4, 2, 1, 3]\n",
      "Multiplication of all the elements:  362880\n"
     ]
    }
   ],
   "source": [
    "l = [8,5,6,9,7,4,2,1,3]\n",
    "mul = 1\n",
    "for i in l:\n",
    "    mul = mul * i\n",
    "\n",
    "print(\"Original list: \",l)\n",
    "print(\"Multiplication of all the elements: \",mul)    "
   ]
  },
  {
   "cell_type": "markdown",
   "id": "f189ed3b",
   "metadata": {},
   "source": [
    "#### 3. Write a Python program to find smallest number in a list?"
   ]
  },
  {
   "cell_type": "code",
   "execution_count": 3,
   "id": "42780090",
   "metadata": {},
   "outputs": [
    {
     "name": "stdout",
     "output_type": "stream",
     "text": [
      "Original list:  [36, 1, 47, 85, 98, 25, 10, 32, 15, 47, 96]\n",
      "Minimum in list:  1\n"
     ]
    }
   ],
   "source": [
    "l = [36,1,47,85,98,25,10,32,15,47,96]\n",
    "minimum = l[0]\n",
    "for i in range(0,len(l)):\n",
    "    if l[i] < minimum:\n",
    "        minimum = l[i]\n",
    "        \n",
    "print(\"Original list: \",l)\n",
    "print(\"Minimum in list: \",minimum)"
   ]
  },
  {
   "cell_type": "markdown",
   "id": "4c541e4c",
   "metadata": {},
   "source": [
    "#### 4. Write a Python program to find largest number in a list?"
   ]
  },
  {
   "cell_type": "code",
   "execution_count": 4,
   "id": "af8fe12c",
   "metadata": {},
   "outputs": [
    {
     "name": "stdout",
     "output_type": "stream",
     "text": [
      "Original list:  [30, 25, 47, 98, 78, 45, 65, 15, 25, 36]\n",
      "Maximum in list:  98\n"
     ]
    }
   ],
   "source": [
    "l = [30,25,47,98,78,45,65,15,25,36]\n",
    "maximum = l[0]\n",
    "for i in range(0,len(l)):\n",
    "    if l[i] > maximum:\n",
    "        maximum = l[i]\n",
    "        \n",
    "print(\"Original list: \",l)\n",
    "print(\"Maximum in list: \",maximum)"
   ]
  },
  {
   "cell_type": "markdown",
   "id": "ce6ede53",
   "metadata": {},
   "source": [
    "#### 5. Write a Python program to find second largest number in a list?"
   ]
  },
  {
   "cell_type": "code",
   "execution_count": 5,
   "id": "dcb29b1b",
   "metadata": {},
   "outputs": [
    {
     "name": "stdout",
     "output_type": "stream",
     "text": [
      "Original list:  [6, 12, 21, 30, 36, 45, 45, 54, 65, 74, 78, 89, 96, 96, 98]\n",
      "Second largest number in list:  96\n"
     ]
    }
   ],
   "source": [
    "l = [78,98,96,45,74,12,36,54,96,30,21,45,89,65,6]\n",
    "\n",
    "l.sort()\n",
    "\n",
    "print(\"Original list: \",l)\n",
    "print(\"Second largest number in list: \",l[-2])"
   ]
  },
  {
   "cell_type": "markdown",
   "id": "d5e37503",
   "metadata": {},
   "source": [
    "#### 6. Write a Python program to find N largest elements from a list?"
   ]
  },
  {
   "cell_type": "code",
   "execution_count": 6,
   "id": "64eee016",
   "metadata": {},
   "outputs": [
    {
     "name": "stdout",
     "output_type": "stream",
     "text": [
      "Enter Nth Number: 3\n",
      "Original list:  [5, 6, 89, 78, 7, 5, 45, 12, 36, 45, 64]\n",
      "N largest element from list:  [89, 78, 64]\n"
     ]
    }
   ],
   "source": [
    "l = [5,6,89,78,7,5,45,12,36,45,64]\n",
    "n = int(input(\"Enter Nth Number: \"))\n",
    "print(\"Original list: \",l)\n",
    "\n",
    "n_largest = []\n",
    "\n",
    "for i in range(0,n):\n",
    "    maximum = 0\n",
    "    \n",
    "    for j in range(len(l)):\n",
    "        if l[j]> maximum:\n",
    "            maximum = l[j]\n",
    "        \n",
    "    l.remove(maximum)\n",
    "    n_largest.append(maximum)\n",
    "\n",
    "print(\"N largest element from list: \",n_largest)"
   ]
  },
  {
   "cell_type": "markdown",
   "id": "fa1016e0",
   "metadata": {},
   "source": [
    "#### 7. Write a Python program to print even numbers in a list?"
   ]
  },
  {
   "cell_type": "code",
   "execution_count": 7,
   "id": "ca9a7afa",
   "metadata": {},
   "outputs": [
    {
     "name": "stdout",
     "output_type": "stream",
     "text": [
      "Original list:  [45, 65, 98, 41, 2, 3, 45, 67, 8, 65, 4, 54, 84, 75]\n",
      "98 2 8 4 54 84 "
     ]
    }
   ],
   "source": [
    "l  = [45,65,98,41,2,3,45,67,8,65,4,54,84,75]\n",
    "\n",
    "print(\"Original list: \",l)\n",
    "for i in l:\n",
    "    if i % 2 == 0:\n",
    "        print(i,end=\" \")"
   ]
  },
  {
   "cell_type": "markdown",
   "id": "d5deb142",
   "metadata": {},
   "source": [
    "#### 8. Write a Python program to print odd numbers in a List?"
   ]
  },
  {
   "cell_type": "code",
   "execution_count": 8,
   "id": "945b53f9",
   "metadata": {},
   "outputs": [
    {
     "name": "stdout",
     "output_type": "stream",
     "text": [
      "Original list:  [45, 65, 98, 41, 2, 3, 45, 67, 8, 65, 4, 54, 84, 75]\n",
      "45 65 41 3 45 67 65 75 "
     ]
    }
   ],
   "source": [
    "l  = [45,65,98,41,2,3,45,67,8,65,4,54,84,75]\n",
    "\n",
    "print(\"Original list: \",l)\n",
    "for i in l:\n",
    "    if i % 2 != 0:\n",
    "        print(i,end=\" \")"
   ]
  },
  {
   "cell_type": "markdown",
   "id": "02f1a2b4",
   "metadata": {},
   "source": [
    "#### 9. Write a Python program to Remove empty List from List?"
   ]
  },
  {
   "cell_type": "code",
   "execution_count": 9,
   "id": "aae1937c",
   "metadata": {},
   "outputs": [
    {
     "name": "stdout",
     "output_type": "stream",
     "text": [
      "Original list:  [25, [], 65, 45, 98, [], 9, 85, [], 65, 46, [], 53, 21]\n",
      "Removed Empty list:  [25, 65, 45, 98, 9, 85, 65, 46, 53, 21]\n"
     ]
    }
   ],
   "source": [
    "l = [25,[],65,45,98,[],9,85,[],65,46,[],53,21]\n",
    "\n",
    "new_list = []\n",
    "\n",
    "for i in l:\n",
    "    if i:\n",
    "        new_list.append(i)\n",
    "        \n",
    "print(\"Original list: \",l)\n",
    "print(\"Removed Empty list: \",new_list)\n",
    "    "
   ]
  },
  {
   "cell_type": "markdown",
   "id": "ee74e649",
   "metadata": {},
   "source": [
    "#### 10. Write a Python program to Cloning or Copying a list?"
   ]
  },
  {
   "cell_type": "code",
   "execution_count": 10,
   "id": "12832cc5",
   "metadata": {},
   "outputs": [
    {
     "name": "stdout",
     "output_type": "stream",
     "text": [
      "Original list:  [78, 74, 65, 4, 21, 35, 64, 65, 42, 64]\n",
      "Copied or Cloned list:  [78, 74, 65, 4, 21, 35, 64, 65, 42, 64]\n"
     ]
    }
   ],
   "source": [
    "l = [78,74,65,4,21,35,64,65,42,64]\n",
    "\n",
    "l1 = l.copy()\n",
    "print(\"Original list: \",l)\n",
    "print(\"Copied or Cloned list: \",l1)"
   ]
  },
  {
   "cell_type": "markdown",
   "id": "888ef4ed",
   "metadata": {},
   "source": [
    "#### 11. Write a Python program to Count occurrences of an element in a list?"
   ]
  },
  {
   "cell_type": "code",
   "execution_count": 11,
   "id": "798f86a5",
   "metadata": {},
   "outputs": [
    {
     "name": "stdout",
     "output_type": "stream",
     "text": [
      "Original list:  [87, 4, 5, 4, 2, 1, 5, 4, 5, 64, 7, 8, 4, 1, 8, 7, 4, 23, 1]\n",
      "Enter the element: 4\n",
      "4 is 5 times in list\n"
     ]
    }
   ],
   "source": [
    "l = [87,4,5,4,2,1,5,4,5,64,7,8,4,1,8,7,4,23,1]\n",
    "print(\"Original list: \",l)\n",
    "\n",
    "n = input(\"Enter the element: \")\n",
    "\n",
    "count = 0\n",
    "for i in l:\n",
    "    if str(i) == n:\n",
    "        count = count +1\n",
    "        \n",
    "print(\"{} is {} times in list\".format(n,count))"
   ]
  }
 ],
 "metadata": {
  "kernelspec": {
   "display_name": "Python 3 (ipykernel)",
   "language": "python",
   "name": "python3"
  },
  "language_info": {
   "codemirror_mode": {
    "name": "ipython",
    "version": 3
   },
   "file_extension": ".py",
   "mimetype": "text/x-python",
   "name": "python",
   "nbconvert_exporter": "python",
   "pygments_lexer": "ipython3",
   "version": "3.9.12"
  }
 },
 "nbformat": 4,
 "nbformat_minor": 5
}

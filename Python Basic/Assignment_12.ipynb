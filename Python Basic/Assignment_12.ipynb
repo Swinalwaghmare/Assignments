{
 "cells": [
  {
   "cell_type": "markdown",
   "id": "a4480626",
   "metadata": {},
   "source": [
    "**1. In what modes should the PdfFileReader() and PdfFileWriter() File objects will be opened?**"
   ]
  },
  {
   "cell_type": "markdown",
   "id": "30a4dd24",
   "metadata": {},
   "source": [
    "**Ans:** The PdfFileReader() class is used to read and extract information from an existing PDF file. we should open the file object in binary mode ('rb'). Whereas for PdfFileWriter() file objects should be opened in wb write binary mode."
   ]
  },
  {
   "cell_type": "markdown",
   "id": "3fd7afc6",
   "metadata": {},
   "source": [
    "**2. From a PdfFileReader object, how do you get a Page object for page 5?**"
   ]
  },
  {
   "cell_type": "markdown",
   "id": "f248c0ff",
   "metadata": {},
   "source": [
    "**Ans:** PdfFileReader object in the PyPDF2 library, we can use the getPage() method. The page numbering starts from 0, so page 5 would correspond to index 4. "
   ]
  },
  {
   "cell_type": "markdown",
   "id": "cddfab2d",
   "metadata": {},
   "source": [
    "**3. What PdfFileReader variable stores the number of pages in the PDF document?**"
   ]
  },
  {
   "cell_type": "markdown",
   "id": "c3b669de",
   "metadata": {},
   "source": [
    "**Ans:** PdfFileReader class in the PyPDF2 library provides a variable called numPages that stores the number of pages in the PDF document"
   ]
  },
  {
   "cell_type": "markdown",
   "id": "51bfa48b",
   "metadata": {},
   "source": [
    "**4. If a PdfFileReader object’s PDF is encrypted with the password swordfish, what must you do\n",
    "before you can obtain Page objects from it?**"
   ]
  },
  {
   "cell_type": "markdown",
   "id": "8bd06dea",
   "metadata": {},
   "source": [
    "**Ans:** If a PdfFileReader object's PDF is encrypted with a password (\"swordfish\"), we need to decrypt it by calling the decrypt() method and providing the correct password before we can obtain Page objects from it."
   ]
  },
  {
   "cell_type": "markdown",
   "id": "4b01ed39",
   "metadata": {},
   "source": [
    "**5. What methods do you use to rotate a page?**"
   ]
  },
  {
   "cell_type": "markdown",
   "id": "2d177982",
   "metadata": {},
   "source": [
    "**Ans:** To rotate a page in PyPDF2, we can use the rotateClockwise() and rotateCounterClockwise() methods available on the Page object."
   ]
  },
  {
   "cell_type": "markdown",
   "id": "c880723a",
   "metadata": {},
   "source": [
    "**6. What is the difference between a Run object and a Paragraph object?**"
   ]
  },
  {
   "cell_type": "markdown",
   "id": "349050b8",
   "metadata": {},
   "source": [
    "**Ans:**\n",
    "- **Run Object:** A Run object represents a contiguous run of text within a paragraph that shares the same formatting properties. It is a portion of text that has consistent font, style, size, color, and other character-level formatting attributes\n",
    "- **Paragraph object:** A Paragraph object represents a single paragraph within a document. It is a collection of Runs that form a logical unit of text with similar formatting and semantic meaning. It can contain multiple Runs, line breaks, and other elements within it."
   ]
  },
  {
   "cell_type": "markdown",
   "id": "1aa0af7c",
   "metadata": {},
   "source": [
    "**7. How do you obtain a list of Paragraph objects for a Document object that’s stored in a variable\n",
    "named doc?**"
   ]
  },
  {
   "cell_type": "code",
   "execution_count": 1,
   "id": "23bd8a35",
   "metadata": {},
   "outputs": [],
   "source": [
    "from docx import Document\n",
    "doc = Document(\"sample.docx\")\n",
    "#print(doc.paragraphs)"
   ]
  },
  {
   "cell_type": "markdown",
   "id": "cc87c8d0",
   "metadata": {},
   "source": [
    "**8. What type of object has bold, underline, italic, strike, and outline variables?**"
   ]
  },
  {
   "cell_type": "markdown",
   "id": "c8caab83",
   "metadata": {},
   "source": [
    "**Ans:*** Run object has bold, underline, italic, strike, and outline variables. The text in a Word document is more than just a string. It has font, size, color, and other styling information associated with it."
   ]
  },
  {
   "cell_type": "markdown",
   "id": "6b27654d",
   "metadata": {},
   "source": [
    "**9. What is the difference between False, True, and None for the bold variable?**"
   ]
  },
  {
   "cell_type": "markdown",
   "id": "ede483e5",
   "metadata": {},
   "source": [
    "**Ans:**\n",
    "- **False:** When bold is set to False, it indicates that the text is not formatted as bold.\n",
    "- **True:** When bold is set to True, it indicates that the text is formatted as bold.\n",
    "- **None:** When bold is set to None, it means that the bold formatting is not explicitly set or specified for the text."
   ]
  },
  {
   "cell_type": "markdown",
   "id": "3ed67292",
   "metadata": {},
   "source": [
    "**10. How do you create a Document object for a new Word document?**"
   ]
  },
  {
   "cell_type": "code",
   "execution_count": 2,
   "id": "120b6fb9",
   "metadata": {},
   "outputs": [],
   "source": [
    "from docx import Document\n",
    "document = Document()\n",
    "document.add_paragraph(\"iNeuron FSDS\")\n",
    "document.save('output.docx')"
   ]
  },
  {
   "cell_type": "markdown",
   "id": "9d972563",
   "metadata": {},
   "source": [
    "**11. How do you add a paragraph with the text &#39;Hello, there!&#39; to a Document object stored in a\n",
    "variable named doc?**"
   ]
  },
  {
   "cell_type": "code",
   "execution_count": 3,
   "id": "0cdf0677",
   "metadata": {},
   "outputs": [],
   "source": [
    "from docx import Document\n",
    "doc = Document()\n",
    "doc.add_paragraph('Hello, there!')\n",
    "doc.save('hello.docx')"
   ]
  },
  {
   "cell_type": "markdown",
   "id": "98941498",
   "metadata": {},
   "source": [
    "**12. What integers represent the levels of headings available in Word documents?**"
   ]
  },
  {
   "cell_type": "markdown",
   "id": "78661698",
   "metadata": {},
   "source": [
    "**Ans:** In Word documents, the integer values typically used to represent the levels of headings are 1 to 9. These integers correspond to the hierarchical structure of headings within the document, where a lower integer represents a higher-level heading and a higher integer represents a lower-level heading."
   ]
  }
 ],
 "metadata": {
  "kernelspec": {
   "display_name": "Python 3 (ipykernel)",
   "language": "python",
   "name": "python3"
  },
  "language_info": {
   "codemirror_mode": {
    "name": "ipython",
    "version": 3
   },
   "file_extension": ".py",
   "mimetype": "text/x-python",
   "name": "python",
   "nbconvert_exporter": "python",
   "pygments_lexer": "ipython3",
   "version": "3.9.12"
  }
 },
 "nbformat": 4,
 "nbformat_minor": 5
}

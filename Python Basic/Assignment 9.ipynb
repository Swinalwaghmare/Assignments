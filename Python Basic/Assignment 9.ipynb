{
 "cells": [
  {
   "cell_type": "markdown",
   "id": "5817afd3",
   "metadata": {},
   "source": [
    "**1. To what does a relative path refer?**"
   ]
  },
  {
   "cell_type": "markdown",
   "id": "8c11336e",
   "metadata": {},
   "source": [
    "**Ans:** A relative path describes the location of a file relative to the current (working) directory*."
   ]
  },
  {
   "cell_type": "markdown",
   "id": "2c1431f3",
   "metadata": {},
   "source": [
    "**2. What does an absolute path start with your operating system?**"
   ]
  },
  {
   "cell_type": "markdown",
   "id": "d9a6bc57",
   "metadata": {},
   "source": [
    "**Ans:** An absolute path always begins from the absolute start of your hard drive and describes every step you must take through the filesystem to end up at the target location."
   ]
  },
  {
   "cell_type": "markdown",
   "id": "6708b23a",
   "metadata": {},
   "source": [
    "**3. What do the functions os.getcwd() and os.chdir() do?**"
   ]
  },
  {
   "cell_type": "markdown",
   "id": "87f16657",
   "metadata": {},
   "source": [
    "**Ans:** os.getcwd() method tells us the location of current working directory (CWD). Whereas os.chdir() method in Python used to change the current working directory to specified path. These functions are similar to linux commands pwd and cd."
   ]
  },
  {
   "cell_type": "markdown",
   "id": "e511788e",
   "metadata": {},
   "source": [
    "**4. What are the . and .. folders?**\n"
   ]
  },
  {
   "cell_type": "markdown",
   "id": "4cab424e",
   "metadata": {},
   "source": [
    "**Ans:** . Represents the Current Directory Whereas .. Represents the Parent Directory of the Current Directory"
   ]
  },
  {
   "cell_type": "markdown",
   "id": "58b4edab",
   "metadata": {},
   "source": [
    "**5. In C:\\bacon\\eggs\\spam.txt, which part is the dir name, and which part is the base name?**"
   ]
  },
  {
   "cell_type": "markdown",
   "id": "030daa62",
   "metadata": {},
   "source": [
    "**Ans:**\\\n",
    "- dir name: 'C:\\bacon\\eggs'\n",
    "- base name: spam.txt"
   ]
  },
  {
   "cell_type": "markdown",
   "id": "5a25b83f",
   "metadata": {},
   "source": [
    "**6. What are the three “mode” arguments that can be passed to the open() function?**"
   ]
  },
  {
   "cell_type": "markdown",
   "id": "51def25c",
   "metadata": {},
   "source": [
    "**Ans:** A file can be Accessed in python using open() function. open function takes two arguments filename and mode of operation (optional). if mode is not provided the default mode of opening is read mode\n",
    "So, the syntax being: open(filename, mode)\n",
    "\n",
    "- ‘r’ – Read Mode: This is the default mode for open(). The file is opened and a pointer is positioned at the beginning of the file’s content.\n",
    "- ‘w’ – Write Mode: Using this mode will overwrite any existing content in a file. If the given file does not exist, a new one will be created.\n",
    "- ‘a’ – Append Mode: With this mode the user can append the data without overwriting any already existing data in the file.\n",
    "- ‘r+’ – Read/Write Mode: Use this mode if you need to simultaneously read and write to a file.\n",
    "- 'w+' - This mode is used for Opening the file in write mode and Performs Write Operation always and  later Additonally we can perform Read Operations also.\n",
    "- ‘a+’ – Append and Read Mode: In this mode you can read and append the data without overwriting the original file.\n",
    "- ‘x’ – Exclusive Creating Mode: This mode is for the sole purpose of creating new files. Use this mode if you know the file to be written doesn’t exist beforehand.\n",
    "- 'x+' - this mode is used for creating the new file and opening that file in Write Mode eXclusively \n",
    "     only once and after performing Write Operation and later we can also perform Read \n",
    "     Operations also."
   ]
  },
  {
   "cell_type": "markdown",
   "id": "a98fa934",
   "metadata": {},
   "source": [
    "**7. What happens if an existing file is opened in write mode?**"
   ]
  },
  {
   "cell_type": "markdown",
   "id": "18b6ade0",
   "metadata": {},
   "source": [
    "**Ans:** Using this mode will overwrite any existing content in a file. If the given file does not exist, a new one will be created."
   ]
  },
  {
   "cell_type": "markdown",
   "id": "7045e719",
   "metadata": {},
   "source": [
    "**8. How do you tell the difference between read() and readlines()?**"
   ]
  },
  {
   "cell_type": "markdown",
   "id": "11c5a1f7",
   "metadata": {},
   "source": [
    "**Ans:**\n",
    "- **read()** - This Function is used for reading ENTIRE DATA of the file in the form of str.\n",
    "- **readlines()** - This Function is used for reading ALL  Lines at a time from the file in the form of list."
   ]
  },
  {
   "cell_type": "markdown",
   "id": "d416c1a4",
   "metadata": {},
   "source": [
    "**9. What data structure does a shelf value resemble?**"
   ]
  },
  {
   "cell_type": "markdown",
   "id": "bcfc9be8",
   "metadata": {},
   "source": [
    "**Ans:**  it contains key and values it represents dictionary."
   ]
  }
 ],
 "metadata": {
  "kernelspec": {
   "display_name": "Python 3 (ipykernel)",
   "language": "python",
   "name": "python3"
  },
  "language_info": {
   "codemirror_mode": {
    "name": "ipython",
    "version": 3
   },
   "file_extension": ".py",
   "mimetype": "text/x-python",
   "name": "python",
   "nbconvert_exporter": "python",
   "pygments_lexer": "ipython3",
   "version": "3.9.12"
  }
 },
 "nbformat": 4,
 "nbformat_minor": 5
}

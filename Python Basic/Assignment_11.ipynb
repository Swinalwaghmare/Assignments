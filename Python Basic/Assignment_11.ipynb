{
 "cells": [
  {
   "cell_type": "markdown",
   "id": "edfca8ef",
   "metadata": {},
   "source": [
    "**1. Create an assert statement that throws an AssertionError if the variable spam is a negative\n",
    "integer.**"
   ]
  },
  {
   "cell_type": "code",
   "execution_count": 1,
   "id": "d9dc45ba",
   "metadata": {},
   "outputs": [
    {
     "ename": "AssertionError",
     "evalue": "spam cannot be a negative integer",
     "output_type": "error",
     "traceback": [
      "\u001b[1;31m---------------------------------------------------------------------------\u001b[0m",
      "\u001b[1;31mAssertionError\u001b[0m                            Traceback (most recent call last)",
      "Input \u001b[1;32mIn [1]\u001b[0m, in \u001b[0;36m<cell line: 2>\u001b[1;34m()\u001b[0m\n\u001b[0;32m      1\u001b[0m spam \u001b[38;5;241m=\u001b[39m \u001b[38;5;241m-\u001b[39m\u001b[38;5;241m2\u001b[39m\n\u001b[1;32m----> 2\u001b[0m \u001b[38;5;28;01massert\u001b[39;00m spam \u001b[38;5;241m>\u001b[39m\u001b[38;5;241m=\u001b[39m \u001b[38;5;241m0\u001b[39m, \u001b[38;5;124m\"\u001b[39m\u001b[38;5;124mspam cannot be a negative integer\u001b[39m\u001b[38;5;124m\"\u001b[39m\n",
      "\u001b[1;31mAssertionError\u001b[0m: spam cannot be a negative integer"
     ]
    }
   ],
   "source": [
    "spam = -2\n",
    "assert spam >= 0, \"spam cannot be a negative integer\""
   ]
  },
  {
   "cell_type": "markdown",
   "id": "d681c81f",
   "metadata": {},
   "source": [
    "**2. Write an assert statement that triggers an AssertionError if the variables eggs and bacon contain strings that are the same as each other, even if their cases are different (that is, 'hello' and 'hello' are considered the same, and 'goodbye' and 'GOODbye' are also considered the same).**\n"
   ]
  },
  {
   "cell_type": "code",
   "execution_count": 2,
   "id": "8779df88",
   "metadata": {},
   "outputs": [],
   "source": [
    "def raise_assert(egg,bacon):\n",
    "    egg = egg.upper()\n",
    "    bacon = bacon.upper()\n",
    "    assert not(egg == bacon), 'Eggs/Bacon should not be same, which are same now'"
   ]
  },
  {
   "cell_type": "code",
   "execution_count": 3,
   "id": "091c0af7",
   "metadata": {},
   "outputs": [
    {
     "ename": "AssertionError",
     "evalue": "Eggs/Bacon should not be same, which are same now",
     "output_type": "error",
     "traceback": [
      "\u001b[1;31m---------------------------------------------------------------------------\u001b[0m",
      "\u001b[1;31mAssertionError\u001b[0m                            Traceback (most recent call last)",
      "Input \u001b[1;32mIn [3]\u001b[0m, in \u001b[0;36m<cell line: 1>\u001b[1;34m()\u001b[0m\n\u001b[1;32m----> 1\u001b[0m \u001b[43mraise_assert\u001b[49m\u001b[43m(\u001b[49m\u001b[38;5;124;43m'\u001b[39;49m\u001b[38;5;124;43mhello\u001b[39;49m\u001b[38;5;124;43m'\u001b[39;49m\u001b[43m,\u001b[49m\u001b[38;5;124;43m'\u001b[39;49m\u001b[38;5;124;43mHELLO\u001b[39;49m\u001b[38;5;124;43m'\u001b[39;49m\u001b[43m)\u001b[49m\n",
      "Input \u001b[1;32mIn [2]\u001b[0m, in \u001b[0;36mraise_assert\u001b[1;34m(egg, bacon)\u001b[0m\n\u001b[0;32m      2\u001b[0m egg \u001b[38;5;241m=\u001b[39m egg\u001b[38;5;241m.\u001b[39mupper()\n\u001b[0;32m      3\u001b[0m bacon \u001b[38;5;241m=\u001b[39m bacon\u001b[38;5;241m.\u001b[39mupper()\n\u001b[1;32m----> 4\u001b[0m \u001b[38;5;28;01massert\u001b[39;00m \u001b[38;5;129;01mnot\u001b[39;00m(egg \u001b[38;5;241m==\u001b[39m bacon), \u001b[38;5;124m'\u001b[39m\u001b[38;5;124mEggs/Bacon should not be same, which are same now\u001b[39m\u001b[38;5;124m'\u001b[39m\n",
      "\u001b[1;31mAssertionError\u001b[0m: Eggs/Bacon should not be same, which are same now"
     ]
    }
   ],
   "source": [
    "raise_assert('hello','HELLO')"
   ]
  },
  {
   "cell_type": "markdown",
   "id": "ef80ba6d",
   "metadata": {},
   "source": [
    "**3. Create an assert statement that throws an AssertionError every time.**"
   ]
  },
  {
   "cell_type": "code",
   "execution_count": 4,
   "id": "381236f3",
   "metadata": {},
   "outputs": [
    {
     "ename": "AssertionError",
     "evalue": "This is an AssertionError",
     "output_type": "error",
     "traceback": [
      "\u001b[1;31m---------------------------------------------------------------------------\u001b[0m",
      "\u001b[1;31mAssertionError\u001b[0m                            Traceback (most recent call last)",
      "Input \u001b[1;32mIn [4]\u001b[0m, in \u001b[0;36m<cell line: 1>\u001b[1;34m()\u001b[0m\n\u001b[1;32m----> 1\u001b[0m \u001b[38;5;28;01massert\u001b[39;00m \u001b[38;5;28;01mFalse\u001b[39;00m, \u001b[38;5;124m\"\u001b[39m\u001b[38;5;124mThis is an AssertionError\u001b[39m\u001b[38;5;124m\"\u001b[39m\n",
      "\u001b[1;31mAssertionError\u001b[0m: This is an AssertionError"
     ]
    }
   ],
   "source": [
    "assert False, \"This is an AssertionError\""
   ]
  },
  {
   "cell_type": "markdown",
   "id": "dfb8c6d4",
   "metadata": {},
   "source": [
    "**4. What are the two lines that must be present in your software in order to call logging.debug()?**"
   ]
  },
  {
   "cell_type": "code",
   "execution_count": 5,
   "id": "bd0361bf",
   "metadata": {},
   "outputs": [],
   "source": [
    "import logging\n",
    "\n",
    "logging.basicConfig(filename='programLog.txt', level=logging.DEBUG,\n",
    "                   format=' %(asctime)s - %(levelname)s - %(message)s')"
   ]
  },
  {
   "cell_type": "markdown",
   "id": "70d866ab",
   "metadata": {},
   "source": [
    "**5. What are the two lines that your program must have in order to have logging.debug() send a logging message to a file named programLog.txt?**"
   ]
  },
  {
   "cell_type": "code",
   "execution_count": 6,
   "id": "e263235d",
   "metadata": {},
   "outputs": [],
   "source": [
    "import logging\n",
    "\n",
    "logging.basicConfig(filename='programLog.txt', level=logging.DEBUG,\n",
    "                   format=' %(asctime)s - %(levelname)s - %(message)s')\n",
    "logging.debug(\"Connected\")"
   ]
  },
  {
   "cell_type": "markdown",
   "id": "4d67196d",
   "metadata": {},
   "source": [
    "**6. What are the five levels of logging?**"
   ]
  },
  {
   "cell_type": "markdown",
   "id": "1fa70068",
   "metadata": {},
   "source": [
    "**Ans:** The Five levels of Logging provided by python's logging module are CRITICAL(50), ERROR(40), WARNING(30), INFO(20, DEBUG(10), NOTSET(0)"
   ]
  },
  {
   "cell_type": "markdown",
   "id": "b6235351",
   "metadata": {},
   "source": [
    "**7. What line of code would you add to your software to disable all logging messages?**"
   ]
  },
  {
   "cell_type": "code",
   "execution_count": 7,
   "id": "7cac52c7",
   "metadata": {},
   "outputs": [],
   "source": [
    "import logging\n",
    "logging.disable = True"
   ]
  },
  {
   "cell_type": "markdown",
   "id": "e62e7eba",
   "metadata": {},
   "source": [
    "**8.Why is using logging messages better than using print() to display the same message?**"
   ]
  },
  {
   "cell_type": "markdown",
   "id": "79d0014f",
   "metadata": {},
   "source": [
    "**Ans:** post devlopment of your code, you can disable logging messages without removing the logging function, whereas you need to manually remove print() statements, which is tedious activity. and also print is used when you want to display any particular message or help whereas logging is used to record all events like error, info, debug messages, timestamps."
   ]
  },
  {
   "cell_type": "markdown",
   "id": "77f4ddac",
   "metadata": {},
   "source": [
    "**9. What are the differences between the Step Over, Step In, and Step Out buttons in the debugger?**"
   ]
  },
  {
   "cell_type": "markdown",
   "id": "dfe87b23",
   "metadata": {},
   "source": [
    "**Ans:**\n",
    "- **Step Over:** When you click the Step Over button, the debugger executes the current line of code and moves to the next line.\n",
    "- **Step In:** The Step In button is used to enter into the details of a function call. \n",
    "- **Step Out:** Step Out is used to quickly exit the current function and return to the calling function."
   ]
  },
  {
   "cell_type": "markdown",
   "id": "8660f914",
   "metadata": {},
   "source": [
    "**10.After you click Continue, when will the debugger stop ?**"
   ]
  },
  {
   "cell_type": "markdown",
   "id": "ba4e013a",
   "metadata": {},
   "source": [
    "**Ans:** This will cause the program to continue running normally, without pausing for debugging untill it terminates or reaches a breakpoint."
   ]
  },
  {
   "cell_type": "markdown",
   "id": "a0a5c17d",
   "metadata": {},
   "source": [
    "**11. What is the concept of a breakpoint?**"
   ]
  },
  {
   "cell_type": "markdown",
   "id": "29b4c691",
   "metadata": {},
   "source": [
    "**Ans:** Breakpoint is a setting on a line of code that causes the debugger to pause when the program execution reaches the line."
   ]
  }
 ],
 "metadata": {
  "kernelspec": {
   "display_name": "Python 3 (ipykernel)",
   "language": "python",
   "name": "python3"
  },
  "language_info": {
   "codemirror_mode": {
    "name": "ipython",
    "version": 3
   },
   "file_extension": ".py",
   "mimetype": "text/x-python",
   "name": "python",
   "nbconvert_exporter": "python",
   "pygments_lexer": "ipython3",
   "version": "3.9.12"
  }
 },
 "nbformat": 4,
 "nbformat_minor": 5
}

{
 "cells": [
  {
   "cell_type": "markdown",
   "id": "8924e522",
   "metadata": {},
   "source": [
    "**1. How do you distinguish between shutil.copy() and shutil.copytree()?**"
   ]
  },
  {
   "cell_type": "markdown",
   "id": "e8524548",
   "metadata": {},
   "source": [
    "**Ans:**\n",
    "- **shutil.copy()** - This function is used to copy a single file from the source (src) to the destination (dst) location.\n",
    "- **shutil.copytree()** -  This function is used to recursively copy an entire directory tree (including all files and subdirectories) from the source (src) to the destination (dst) location. "
   ]
  },
  {
   "cell_type": "markdown",
   "id": "9566d0c5",
   "metadata": {},
   "source": [
    "**2. What function is used to rename files??**"
   ]
  },
  {
   "cell_type": "markdown",
   "id": "8ba28861",
   "metadata": {},
   "source": [
    "**Ans:** os.rename() function is used to rename files or directories using a python program."
   ]
  },
  {
   "cell_type": "markdown",
   "id": "63b75159",
   "metadata": {},
   "source": [
    "**3. What is the difference between the delete functions in the send2trash and shutil modules?**"
   ]
  },
  {
   "cell_type": "markdown",
   "id": "13eae49d",
   "metadata": {},
   "source": [
    "**Ans:**\n",
    "- **send2trash** - The send2trash module provides a cross-platform solution for moving files or directories to the trash or recycle bin, rather than permanently deleting them. \n",
    "- **shutil** - The shutil module provides functions for file and directory operations, including deleting files and directories permanently."
   ]
  },
  {
   "cell_type": "markdown",
   "id": "e7ccf365",
   "metadata": {},
   "source": [
    "**4. ZipFile objects have a close() method just like File objects’ close() method. What ZipFile method is equivalent to File objects’ open() method?**"
   ]
  },
  {
   "cell_type": "markdown",
   "id": "1017a1f8",
   "metadata": {},
   "source": [
    "**Ans:** ipFile Module provides a method called as zipfile.ZipFile() to read and write to zipFiles. it takes arugments lile filename and mode etc zipfile.ZipFile('filename', mode = 'r')"
   ]
  },
  {
   "cell_type": "markdown",
   "id": "92e63e92",
   "metadata": {},
   "source": [
    "**5. Create a programme that searches a folder tree for files with a certain file extension (such as .pdf or .jpg). Copy these files from whatever location they are in to a new folder.**"
   ]
  },
  {
   "cell_type": "code",
   "execution_count": 1,
   "id": "1f413719",
   "metadata": {},
   "outputs": [
    {
     "name": "stdout",
     "output_type": "stream",
     "text": [
      "Copied: F:\\Ineuron\\Fast Track\\Assignments\\Assignments-\\Python Basic\\Source\\3- Different types of distribution.pdf\n"
     ]
    }
   ],
   "source": [
    "import os\n",
    "import shutil\n",
    "\n",
    "def search_and_copy(source_folder, target_folder, file_extension):\n",
    "    os.makedirs(target_folder,exist_ok=True)\n",
    "    \n",
    "    for root, _ , files in os.walk(source_folder):\n",
    "         for file in files:\n",
    "            if file.endswith(file_extension):\n",
    "                source_path = os.path.join(root, file)\n",
    "                target_path = os.path.join(target_folder, file)\n",
    "\n",
    "                # Copy the file to the target folder\n",
    "                shutil.copy2(source_path, target_path)\n",
    "                print(\"Copied:\", source_path)\n",
    "\n",
    "if __name__ == \"__main__\":\n",
    "    source = \"F:\\Ineuron\\Fast Track\\Assignments\\Assignments-\\Python Basic\\Source\"\n",
    "    target = \"F:\\Ineuron\\Fast Track\\Assignments\\Assignments-\\Python Basic\\\\target\"\n",
    "    extention = '.pdf'\n",
    "    search_and_copy(source,target,extention)\n"
   ]
  }
 ],
 "metadata": {
  "kernelspec": {
   "display_name": "Python 3 (ipykernel)",
   "language": "python",
   "name": "python3"
  },
  "language_info": {
   "codemirror_mode": {
    "name": "ipython",
    "version": 3
   },
   "file_extension": ".py",
   "mimetype": "text/x-python",
   "name": "python",
   "nbconvert_exporter": "python",
   "pygments_lexer": "ipython3",
   "version": "3.9.12"
  }
 },
 "nbformat": 4,
 "nbformat_minor": 5
}

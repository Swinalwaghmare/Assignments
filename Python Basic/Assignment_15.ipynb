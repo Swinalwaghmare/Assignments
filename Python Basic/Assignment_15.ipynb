{
 "cells": [
  {
   "cell_type": "markdown",
   "id": "5810c205",
   "metadata": {},
   "source": [
    "**1.How many seconds are in an hour? Use the interactive interpreter as a calculator and multiply the\n",
    "number of seconds in a minute (60) by the number of minutes in an hour (also 60).\n",
    "sol. 60**\n"
   ]
  },
  {
   "cell_type": "code",
   "execution_count": 1,
   "id": "0264ab05",
   "metadata": {},
   "outputs": [
    {
     "data": {
      "text/plain": [
       "3600"
      ]
     },
     "execution_count": 1,
     "metadata": {},
     "output_type": "execute_result"
    }
   ],
   "source": [
    "second_in_min = 60\n",
    "min_in_hr = 60\n",
    "total_sec_in_hr = second_in_min*min_in_hr\n",
    "total_sec_in_hr"
   ]
  },
  {
   "cell_type": "markdown",
   "id": "fa3a25eb",
   "metadata": {},
   "source": [
    "**2. Assign the result from the previous task (seconds in an hour) to a variable called\n",
    "seconds_per_hour.**\n"
   ]
  },
  {
   "cell_type": "code",
   "execution_count": 2,
   "id": "14d8b4fa",
   "metadata": {},
   "outputs": [
    {
     "data": {
      "text/plain": [
       "3600"
      ]
     },
     "execution_count": 2,
     "metadata": {},
     "output_type": "execute_result"
    }
   ],
   "source": [
    "seconds_per_hour = total_sec_in_hr\n",
    "seconds_per_hour"
   ]
  },
  {
   "cell_type": "markdown",
   "id": "2c95f304",
   "metadata": {},
   "source": [
    "**3. How many seconds do you think there are in a day? Make use of the variables seconds per hour\n",
    "and minutes per hour.**\n"
   ]
  },
  {
   "cell_type": "code",
   "execution_count": 3,
   "id": "d59645ae",
   "metadata": {},
   "outputs": [
    {
     "name": "stdout",
     "output_type": "stream",
     "text": [
      "86400\n"
     ]
    }
   ],
   "source": [
    "minutes_per_hour = 60\n",
    "print(seconds_per_hour * 24)"
   ]
  },
  {
   "cell_type": "markdown",
   "id": "09fd180b",
   "metadata": {},
   "source": [
    "**4. Calculate seconds per day again, but this time save the result in a variable called seconds_per_day**"
   ]
  },
  {
   "cell_type": "code",
   "execution_count": 4,
   "id": "5598aa98",
   "metadata": {},
   "outputs": [
    {
     "data": {
      "text/plain": [
       "86400"
      ]
     },
     "execution_count": 4,
     "metadata": {},
     "output_type": "execute_result"
    }
   ],
   "source": [
    "seconds_per_day = 60*60*24\n",
    "seconds_per_day"
   ]
  },
  {
   "cell_type": "markdown",
   "id": "6288abab",
   "metadata": {},
   "source": [
    "**5. Divide seconds_per_day by seconds_per_hour. Use floating-point (/) division.**"
   ]
  },
  {
   "cell_type": "code",
   "execution_count": 5,
   "id": "71bab10b",
   "metadata": {},
   "outputs": [
    {
     "data": {
      "text/plain": [
       "24.0"
      ]
     },
     "execution_count": 5,
     "metadata": {},
     "output_type": "execute_result"
    }
   ],
   "source": [
    "seconds_per_day/seconds_per_hour"
   ]
  },
  {
   "cell_type": "markdown",
   "id": "386dbc27",
   "metadata": {},
   "source": [
    "**6. Divide seconds_per_day by seconds_per_hour, using integer (//) division. Did this number agree\n",
    "with the floating-point value from the previous question, aside from the final .0?**"
   ]
  },
  {
   "cell_type": "code",
   "execution_count": 6,
   "id": "8dfd52f8",
   "metadata": {},
   "outputs": [
    {
     "data": {
      "text/plain": [
       "24"
      ]
     },
     "execution_count": 6,
     "metadata": {},
     "output_type": "execute_result"
    }
   ],
   "source": [
    "seconds_per_day // seconds_per_hour\n",
    "# Yes"
   ]
  },
  {
   "cell_type": "markdown",
   "id": "bc2ef56c",
   "metadata": {},
   "source": [
    "**7. Write a generator, genPrimes, that returns the sequence of prime numbers on successive calls to\n",
    "its next() method: 2, 3, 5, 7, 11, ...**"
   ]
  },
  {
   "cell_type": "code",
   "execution_count": 7,
   "id": "e537a434",
   "metadata": {},
   "outputs": [
    {
     "name": "stdout",
     "output_type": "stream",
     "text": [
      "2\n",
      "3\n",
      "5\n",
      "7\n",
      "11\n"
     ]
    }
   ],
   "source": [
    "\n",
    "def genPrimes():\n",
    "    n = 0\n",
    "    while True:\n",
    "        if n == 2 or n == 3 :\n",
    "            yield n\n",
    "        elif ((n-1)%6 == 0 or (n+1)%6 == 0) and n !=1:\n",
    "            yield n\n",
    "        n = n+1\n",
    "        \n",
    "output = genPrimes()\n",
    "for ele in range(5):\n",
    "    print(next(output))"
   ]
  }
 ],
 "metadata": {
  "kernelspec": {
   "display_name": "Python 3 (ipykernel)",
   "language": "python",
   "name": "python3"
  },
  "language_info": {
   "codemirror_mode": {
    "name": "ipython",
    "version": 3
   },
   "file_extension": ".py",
   "mimetype": "text/x-python",
   "name": "python",
   "nbconvert_exporter": "python",
   "pygments_lexer": "ipython3",
   "version": "3.9.12"
  }
 },
 "nbformat": 4,
 "nbformat_minor": 5
}

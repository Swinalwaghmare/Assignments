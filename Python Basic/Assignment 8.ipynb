{
 "cells": [
  {
   "cell_type": "markdown",
   "id": "257c48a4",
   "metadata": {},
   "source": [
    "**1. Is the Python Standard Library included with PyInputPlus?**"
   ]
  },
  {
   "cell_type": "markdown",
   "id": "a5cd8eb1",
   "metadata": {},
   "source": [
    "**Ans:** No, PyInputPlus is not a part of Python Standard Library, it needs to be installed explicitly using the command pip install PyInputPlus"
   ]
  },
  {
   "cell_type": "markdown",
   "id": "39b072f9",
   "metadata": {},
   "source": [
    "**2. Why is PyInputPlus commonly imported with import pyinputplus as pypi?**"
   ]
  },
  {
   "cell_type": "markdown",
   "id": "098e5685",
   "metadata": {},
   "source": [
    "**Ans:** We can import the module with import pyinputplus as pyip so that we can enter a shorter name when calling the module's functions."
   ]
  },
  {
   "cell_type": "markdown",
   "id": "426b2931",
   "metadata": {},
   "source": [
    "**3. How do you distinguish between inputInt() and inputFloat()?**"
   ]
  },
  {
   "cell_type": "markdown",
   "id": "f850234a",
   "metadata": {},
   "source": [
    "**Ans:**\n",
    "- **inputInt()** function Accepts an integer value.\n",
    "- **inputFloat()** function Accepts a floating-point numeric value."
   ]
  },
  {
   "cell_type": "markdown",
   "id": "d66abf6a",
   "metadata": {},
   "source": [
    "**4. Using PyInputPlus, how do you ensure that the user enters a whole number between 0 and 99?**"
   ]
  },
  {
   "cell_type": "markdown",
   "id": "5642cd89",
   "metadata": {},
   "source": [
    "**Ans:** PyInputPlus module provides a function called as inputInt() which only returns only integer values. inorder to restrict the input between 0 and 99, we can use parameters like min & max to ensure that user enters the values between the defined range only."
   ]
  },
  {
   "cell_type": "markdown",
   "id": "98152164",
   "metadata": {},
   "source": [
    "**5. What is transferred to the keyword arguments allowRegexes and blockRegexes?**"
   ]
  },
  {
   "cell_type": "markdown",
   "id": "adf1c1dd",
   "metadata": {},
   "source": [
    "**Ans:** : we can use allowRegexes and blockRegexes keyword arguments to take list of regular expression strings to determine what the pyinputplus function will reject or accept valid input."
   ]
  },
  {
   "cell_type": "markdown",
   "id": "ce13c352",
   "metadata": {},
   "source": [
    "**6. If a blank input is entered three times, what does inputStr(limit=3) do?**"
   ]
  },
  {
   "cell_type": "markdown",
   "id": "09cee830",
   "metadata": {},
   "source": [
    "**Ans:** The statement inputStr(limit=3) will throw two exceptions ValidationException and RetryLimitException."
   ]
  },
  {
   "cell_type": "markdown",
   "id": "26a00adc",
   "metadata": {},
   "source": [
    "**7. If blank input is entered three times, what does inputStr(limit=3, default=&#39;hello&#39;) do?**"
   ]
  },
  {
   "cell_type": "markdown",
   "id": "fbfa8016",
   "metadata": {},
   "source": [
    "**Ans:** Since the default parameter is set to hello. after blank input is entered three times instead of raising RetryLimitException exception. the function will return hello as response to the calling function."
   ]
  }
 ],
 "metadata": {
  "kernelspec": {
   "display_name": "Python 3 (ipykernel)",
   "language": "python",
   "name": "python3"
  },
  "language_info": {
   "codemirror_mode": {
    "name": "ipython",
    "version": 3
   },
   "file_extension": ".py",
   "mimetype": "text/x-python",
   "name": "python",
   "nbconvert_exporter": "python",
   "pygments_lexer": "ipython3",
   "version": "3.9.12"
  }
 },
 "nbformat": 4,
 "nbformat_minor": 5
}

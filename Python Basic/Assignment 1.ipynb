{
 "cells": [
  {
   "cell_type": "markdown",
   "id": "40092ffd",
   "metadata": {},
   "source": [
    "#### 1. In the below elements which of them are values or an expression? eg:- values can be integer or string and expressions will be mathematical operators."
   ]
  },
  {
   "cell_type": "markdown",
   "id": "17caad2e",
   "metadata": {},
   "source": [
    "'*'     - Multiplication\\\n",
    "'hello' - String\\\n",
    "\"87.8\"  - Floating Number\\\n",
    "\"-\"     - Subtraction\\\n",
    "\"/\"     - Division\\\n",
    "\"+\"     - Addition\\\n",
    "\"6\"     - Integer\n"
   ]
  },
  {
   "cell_type": "markdown",
   "id": "33d65954",
   "metadata": {},
   "source": [
    "#### 2. What is the difference between string and variable?"
   ]
  },
  {
   "cell_type": "markdown",
   "id": "24cb1905",
   "metadata": {},
   "source": [
    "A string is collection of sequence of character enclosed within either Double or single quotes or triple double or triple single quote (Multiline assignment).\\\n",
    "A variable is an identifier whose values are changing or varying during the execution of the program.\n"
   ]
  },
  {
   "cell_type": "markdown",
   "id": "69c93440",
   "metadata": {},
   "source": [
    "#### 3. Describe three different data types."
   ]
  },
  {
   "cell_type": "markdown",
   "id": "3c61df64",
   "metadata": {},
   "source": [
    "Int – int is one of the predefined class and treated as fundamental data types. The purpose of int data type is that “To store single integer data or whole number or Integral data(Numbers without decimal values)\\\n",
    "\n",
    "Float – Float is one of the predefined class and treated as fundamental data types. The purpose of float data type is that “To store real constant values or floating-point values” This data also support scientific notations is one of the alternative notations for real constant values or floating-point values the advantage of scientific Notation is that to store real constant values in less memory space.\\\n",
    "\n",
    "bool – bool is one of the predefined class and treated as fundamental data types. The purpose of bool data type is that to store “To store True or False values (Logical Values)” Here True and False are keywords and treated as Values for bool data types. Internally True is taken as 1 and False is taken as 0.\n"
   ]
  },
  {
   "cell_type": "markdown",
   "id": "4bbce6a2",
   "metadata": {},
   "source": [
    "#### 4. What is an expression made up of? What do all expressions do?"
   ]
  },
  {
   "cell_type": "markdown",
   "id": "305b2034",
   "metadata": {},
   "source": [
    "An operator is a symbol which is used to perform certain operations on data/Objects. If two or more variable/objects connected with operators then it is called as Expression"
   ]
  },
  {
   "cell_type": "markdown",
   "id": "aee5b5e3",
   "metadata": {},
   "source": [
    "#### 5. This assignment statements, like spam = 10. What is the difference between an expression and a statement?"
   ]
  },
  {
   "cell_type": "markdown",
   "id": "c3be6bbe",
   "metadata": {},
   "source": [
    "An expression evaluates some kind of values but and statement Is not"
   ]
  },
  {
   "cell_type": "markdown",
   "id": "0f9c57f1",
   "metadata": {},
   "source": [
    "#### 6. After running the following code, what does the variable bacon contain?"
   ]
  },
  {
   "cell_type": "markdown",
   "id": "59bb0d4e",
   "metadata": {},
   "source": [
    "bacon = 22\\\n",
    "bacon + 1\\\n",
    "23"
   ]
  },
  {
   "cell_type": "markdown",
   "id": "24b20ad6",
   "metadata": {},
   "source": [
    "#### 7. What should the values of the following two terms be?"
   ]
  },
  {
   "cell_type": "markdown",
   "id": "6ffe8f59",
   "metadata": {},
   "source": [
    "'spam' + 'spamspam' -‘spamspamspam’\\\n",
    "'spam' * 3 \t- ‘spamspamspam’\n"
   ]
  },
  {
   "cell_type": "markdown",
   "id": "378dd928",
   "metadata": {},
   "source": [
    "#### 8. Why is eggs a valid variable name while 100 is invalid?"
   ]
  },
  {
   "cell_type": "markdown",
   "id": "eda43fa9",
   "metadata": {},
   "source": [
    "The variable is name is combination of alphabet, digits and special symbols (_) . The variable must start with either Alphabet or special symbols under score (_) Hence hear eggs is valid because it is starting with alphabet and 100 is invalid because it is starting with digit which is invalid syntax"
   ]
  },
  {
   "cell_type": "markdown",
   "id": "29613904",
   "metadata": {},
   "source": [
    "#### 9. What three functions can be used to get the integer, floating-point number, or string version of a value?"
   ]
  },
  {
   "cell_type": "markdown",
   "id": "b2189fda",
   "metadata": {},
   "source": [
    "The int(), float() and str() are the function which will evaluate the integer, floating-point numbers, and string version of values passed to them."
   ]
  },
  {
   "cell_type": "markdown",
   "id": "b7ff62a6",
   "metadata": {},
   "source": [
    "#### 10. Why does this expression cause an error? How can you fix it?\n",
    "'I have eaten ' + 99 + ' burritos\n"
   ]
  },
  {
   "cell_type": "markdown",
   "id": "d03b5d2e",
   "metadata": {},
   "source": [
    "This expression will cause us an error because string cannot concatenate with integers and 99 is an integer to perform this operation, we can do this \\\n",
    "'I have eaten' + str(99) + ' burritos.'"
   ]
  }
 ],
 "metadata": {
  "kernelspec": {
   "display_name": "Python 3 (ipykernel)",
   "language": "python",
   "name": "python3"
  },
  "language_info": {
   "codemirror_mode": {
    "name": "ipython",
    "version": 3
   },
   "file_extension": ".py",
   "mimetype": "text/x-python",
   "name": "python",
   "nbconvert_exporter": "python",
   "pygments_lexer": "ipython3",
   "version": "3.9.12"
  }
 },
 "nbformat": 4,
 "nbformat_minor": 5
}

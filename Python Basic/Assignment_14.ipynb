{
 "cells": [
  {
   "cell_type": "markdown",
   "id": "b38b3709",
   "metadata": {},
   "source": [
    "**1. What does RGBA stand for?**"
   ]
  },
  {
   "cell_type": "markdown",
   "id": "386e44d9",
   "metadata": {},
   "source": [
    "**Ans:**  RGBA is a four-channel format containing data for Red, Green, Blue, and an Alpha value. Where Alpha Represents the Opacity."
   ]
  },
  {
   "cell_type": "markdown",
   "id": "3f77db4c",
   "metadata": {},
   "source": [
    "**2. From the Pillow module, how do you get the RGBA value of any images?**"
   ]
  },
  {
   "cell_type": "markdown",
   "id": "77b9d76f",
   "metadata": {},
   "source": [
    "**Ans:** ImageColor.getcolor() gives rgba value of any image."
   ]
  },
  {
   "cell_type": "markdown",
   "id": "f9482d55",
   "metadata": {},
   "source": [
    "**3. What is a box tuple, and how does it work?**"
   ]
  },
  {
   "cell_type": "markdown",
   "id": "951c9d93",
   "metadata": {},
   "source": [
    "**Ans:** A box tuple is a tuple that represents a rectangular region or bounding box within an image. It is commonly used in various operations, such as cropping, resizing, and extracting regions of interest from an image."
   ]
  },
  {
   "cell_type": "markdown",
   "id": "24d23a46",
   "metadata": {},
   "source": [
    "**4. Use your image and load in notebook then, How can you find out the width and height of an Image object?**"
   ]
  },
  {
   "cell_type": "code",
   "execution_count": 1,
   "id": "f111fd1f",
   "metadata": {},
   "outputs": [
    {
     "data": {
      "text/plain": [
       "(1500, 1559)"
      ]
     },
     "execution_count": 1,
     "metadata": {},
     "output_type": "execute_result"
    }
   ],
   "source": [
    "from PIL import Image\n",
    "image = Image.open('sample.jpg')\n",
    "width, height = image.size\n",
    "width, height"
   ]
  },
  {
   "cell_type": "markdown",
   "id": "4d8314e5",
   "metadata": {},
   "source": [
    "**5. What method would you call to get Image object for a 100×100 image, excluding the lower-left quarter of it?**"
   ]
  },
  {
   "cell_type": "code",
   "execution_count": 2,
   "id": "2a2da74a",
   "metadata": {},
   "outputs": [
    {
     "data": {
      "text/plain": [
       "(100, 100)"
      ]
     },
     "execution_count": 2,
     "metadata": {},
     "output_type": "execute_result"
    }
   ],
   "source": [
    "from PIL import Image\n",
    "img = Image.open('sample.jpg')\n",
    "new_img = img.crop((0,0,100,100))\n",
    "width, height = new_img.size\n",
    "width, height"
   ]
  },
  {
   "cell_type": "markdown",
   "id": "07f22b50",
   "metadata": {},
   "source": [
    "**6. After making changes to an Image object, how could you save it as an image file?**"
   ]
  },
  {
   "cell_type": "code",
   "execution_count": 3,
   "id": "e9547a98",
   "metadata": {},
   "outputs": [],
   "source": [
    "from PIL import Image\n",
    "\n",
    "image = Image.open(\"sample.jpg\") \n",
    "image.save(\"modified_sample.jpg\")"
   ]
  },
  {
   "cell_type": "markdown",
   "id": "8b3bb314",
   "metadata": {},
   "source": [
    "**7. What module contains Pillow’s shape-drawing code?**"
   ]
  },
  {
   "cell_type": "markdown",
   "id": "0b4b102c",
   "metadata": {},
   "source": [
    "**Ans:** Pillows ImageDraw module contains Shape drawing methods"
   ]
  },
  {
   "cell_type": "markdown",
   "id": "733636c9",
   "metadata": {},
   "source": [
    "**8. Image objects do not have drawing methods. What kind of object does? How do you get this kind\n",
    "of object?**"
   ]
  },
  {
   "cell_type": "markdown",
   "id": "50f5dee4",
   "metadata": {},
   "source": [
    "**Ans:** ImageDraw.Draw object (draw), we can use its methods like draw.line(), draw.rectangle(), draw.text(), and more to draw on the image. "
   ]
  }
 ],
 "metadata": {
  "kernelspec": {
   "display_name": "Python 3 (ipykernel)",
   "language": "python",
   "name": "python3"
  },
  "language_info": {
   "codemirror_mode": {
    "name": "ipython",
    "version": 3
   },
   "file_extension": ".py",
   "mimetype": "text/x-python",
   "name": "python",
   "nbconvert_exporter": "python",
   "pygments_lexer": "ipython3",
   "version": "3.9.12"
  }
 },
 "nbformat": 4,
 "nbformat_minor": 5
}

{
 "cells": [
  {
   "cell_type": "markdown",
   "id": "6f88724f",
   "metadata": {},
   "source": [
    "**1. Why are functions advantageous to have in your programs?**"
   ]
  },
  {
   "attachments": {},
   "cell_type": "markdown",
   "id": "8f005ab6",
   "metadata": {},
   "source": [
    "**Ans** : The advantage of having a function in our program is that it provide code Re-usability."
   ]
  },
  {
   "cell_type": "markdown",
   "id": "fae51186",
   "metadata": {},
   "source": [
    "**2. When does the code in a function run: when it's specified or when it's called?**"
   ]
  },
  {
   "attachments": {},
   "cell_type": "markdown",
   "id": "33d07c54",
   "metadata": {},
   "source": [
    "**Ans** : When it is called."
   ]
  },
  {
   "cell_type": "markdown",
   "id": "da399483",
   "metadata": {},
   "source": [
    "**3. What statement creates a function?**"
   ]
  },
  {
   "cell_type": "markdown",
   "id": "5202dfa9",
   "metadata": {},
   "source": [
    "**Ans** : def is keyword used for creating a function."
   ]
  },
  {
   "cell_type": "markdown",
   "id": "9f338a1b",
   "metadata": {},
   "source": [
    "**4. What is the difference between a function and a function call?**"
   ]
  },
  {
   "cell_type": "markdown",
   "id": "38983074",
   "metadata": {},
   "source": [
    "**Ans** :  A function is procedure to achieve a particular result. while function call is using this function to achive that task. Using a function to do a particular task any point in program is called as function call."
   ]
  },
  {
   "cell_type": "markdown",
   "id": "1eb30f10",
   "metadata": {},
   "source": [
    "**5. How many global scopes are there in a Python program? How many local scopes?**"
   ]
  },
  {
   "attachments": {},
   "cell_type": "markdown",
   "id": "4349e423",
   "metadata": {},
   "source": [
    "**Ans** : There is one global scope, and a local scope is created whenever a function is called."
   ]
  },
  {
   "cell_type": "markdown",
   "id": "53774826",
   "metadata": {},
   "source": [
    "**6. What happens to variables in a local scope when the function call returns?**"
   ]
  },
  {
   "attachments": {},
   "cell_type": "markdown",
   "id": "5cf70695",
   "metadata": {},
   "source": [
    "**Ans** : When a function returns, the local scope is destroyed, and all the variables in it are forgotten."
   ]
  },
  {
   "attachments": {},
   "cell_type": "markdown",
   "id": "634a76bd",
   "metadata": {},
   "source": [
    "**7. What is the concept of a return value? Is it possible to have a return value in an expression?**"
   ]
  },
  {
   "cell_type": "markdown",
   "id": "53eec46f",
   "metadata": {},
   "source": [
    "**Ans** :  return value is the value that a function call evaluates to. Like any value, a return value can be used as part of an expression."
   ]
  },
  {
   "cell_type": "markdown",
   "id": "eabc412d",
   "metadata": {},
   "source": [
    "**8. If a function does not have a return statement, what is the return value of a call to that function?**"
   ]
  },
  {
   "attachments": {},
   "cell_type": "markdown",
   "id": "b2ae7d05",
   "metadata": {},
   "source": [
    "**Ans** : if there is no return statement for a function, it return value is None."
   ]
  },
  {
   "cell_type": "markdown",
   "id": "981303c8",
   "metadata": {},
   "source": [
    "**9. How do you make a function variable refer to the global variable?**"
   ]
  },
  {
   "attachments": {},
   "cell_type": "markdown",
   "id": "f02da543",
   "metadata": {},
   "source": [
    "**Ans** : A global statement will force a variable in a function to refer to the global variable. If you want to refer to a global variable in a function, you can use the global keyword to declare which variables are global."
   ]
  },
  {
   "cell_type": "markdown",
   "id": "1943ec6a",
   "metadata": {},
   "source": [
    "**10. What is the data type of None?**"
   ]
  },
  {
   "cell_type": "markdown",
   "id": "8a1e880e",
   "metadata": {},
   "source": [
    "**Ans** : The data type of None is NoneType."
   ]
  },
  {
   "cell_type": "markdown",
   "id": "a1f793d6",
   "metadata": {},
   "source": [
    "**11. What does the sentence import areallyourpetsnamederic do?**"
   ]
  },
  {
   "cell_type": "markdown",
   "id": "8c8b33a1",
   "metadata": {},
   "source": [
    "**Ans** : This import statements import a moduled named areallyourpetsnamederic. "
   ]
  },
  {
   "cell_type": "markdown",
   "id": "c031f356",
   "metadata": {},
   "source": [
    "**12. If you had a bacon() feature in a spam module, what would you call it after importing spam?**"
   ]
  },
  {
   "attachments": {},
   "cell_type": "markdown",
   "id": "a6291b79",
   "metadata": {},
   "source": [
    "**Ans** : spam.bacon()"
   ]
  },
  {
   "cell_type": "markdown",
   "id": "48bef19b",
   "metadata": {},
   "source": [
    "**13. What can you do to save a programme from crashing if it encounters an error?**"
   ]
  },
  {
   "cell_type": "markdown",
   "id": "9b965f82",
   "metadata": {},
   "source": [
    "**Ans** : Use exception handling on that particular line by using try and except block."
   ]
  },
  {
   "cell_type": "markdown",
   "id": "8483071b",
   "metadata": {},
   "source": [
    "**14. What is the purpose of the try clause? What is the purpose of the except clause?**"
   ]
  },
  {
   "attachments": {},
   "cell_type": "markdown",
   "id": "a3ced4ab",
   "metadata": {},
   "source": [
    "**Ans:**\n",
    "- **try** \\\n",
    "It is the block, in which we write block of statements which are generating exceptions. In Otherwords, what are all the statements generating exceptions, such type of statements must be written within try block and try block is called exception monitering block.\n",
    "\n",
    "- **except**\\\n",
    "It is the block, In which we write block of statements which are generating User-Friendly error messages. In Otherwords, except block supresses the Technical error messages and generates User-Friendly Error Messages and hence  except block is called exception processing block."
   ]
  },
  {
   "cell_type": "markdown",
   "id": "9d459c80",
   "metadata": {},
   "source": []
  }
 ],
 "metadata": {
  "kernelspec": {
   "display_name": "Python 3 (ipykernel)",
   "language": "python",
   "name": "python3"
  },
  "language_info": {
   "codemirror_mode": {
    "name": "ipython",
    "version": 3
   },
   "file_extension": ".py",
   "mimetype": "text/x-python",
   "name": "python",
   "nbconvert_exporter": "python",
   "pygments_lexer": "ipython3",
   "version": "3.9.12"
  }
 },
 "nbformat": 4,
 "nbformat_minor": 5
}

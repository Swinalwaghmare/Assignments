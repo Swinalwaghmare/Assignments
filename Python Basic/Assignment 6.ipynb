{
 "cells": [
  {
   "cell_type": "markdown",
   "id": "00492549",
   "metadata": {},
   "source": [
    "**1. What are escape characters, and how do you use them?**"
   ]
  },
  {
   "cell_type": "markdown",
   "id": "2bdb9630",
   "metadata": {},
   "source": [
    "**Ans:** To insert a character that are illegal in string we use escape character. an escape character is a backslash \\ followed by the character you want to insert."
   ]
  },
  {
   "cell_type": "code",
   "execution_count": 1,
   "id": "8e6bb540",
   "metadata": {},
   "outputs": [
    {
     "name": "stdout",
     "output_type": "stream",
     "text": [
      "Best football player in world \"Cristiano Ronaldo\".\n"
     ]
    }
   ],
   "source": [
    "# print(\"Best football player in world \"Cristiano Ronaldo\".\")\n",
    "# SyntaxError: invalid syntax\n",
    "\n",
    "print(\"Best football player in world \\\"Cristiano Ronaldo\\\".\")"
   ]
  },
  {
   "cell_type": "markdown",
   "id": "d3418de5",
   "metadata": {},
   "source": [
    "**2. What do the escape characters n and t stand for?**"
   ]
  },
  {
   "cell_type": "markdown",
   "id": "d29a7d5a",
   "metadata": {},
   "source": [
    "**Ans:**\n",
    "- n stands for New line\n",
    "- t stands for Tab"
   ]
  },
  {
   "cell_type": "markdown",
   "id": "379392b3",
   "metadata": {},
   "source": [
    "**3. What is the way to include backslash characters in a string?**"
   ]
  },
  {
   "cell_type": "markdown",
   "id": "2836582c",
   "metadata": {},
   "source": [
    "**Ans:** The \\\\ escape character will represent the backslash character in a string."
   ]
  },
  {
   "cell_type": "markdown",
   "id": "e6034a96",
   "metadata": {},
   "source": [
    "**4. The string \"Howl's Moving Castle\" is a correct value. Why isn't the single quote character in the word Howl's not escaped a problem ?**"
   ]
  },
  {
   "cell_type": "markdown",
   "id": "90fe9d82",
   "metadata": {},
   "source": [
    "**Ans:** The string \"Howl's Moving Castle\" does not possessed any problem because it is wrapped inside double quotes. if its wrapped inside single quotes then we have to use escape character \\' to show single quote in the final output."
   ]
  },
  {
   "cell_type": "code",
   "execution_count": 2,
   "id": "9d0ae25f",
   "metadata": {},
   "outputs": [
    {
     "name": "stdout",
     "output_type": "stream",
     "text": [
      "Howl's Moving Castle\n",
      "Howl's Moving Castle\n"
     ]
    }
   ],
   "source": [
    "print(\"Howl's Moving Castle\")\n",
    "print('Howl\\'s Moving Castle')"
   ]
  },
  {
   "cell_type": "markdown",
   "id": "4ce3a410",
   "metadata": {},
   "source": [
    "**5. How do you write a string of newlines if you don&#39;t want to use the n character?**"
   ]
  },
  {
   "cell_type": "markdown",
   "id": "5cc583b2",
   "metadata": {},
   "source": [
    "**Ans:** Multiline string allow us to use newlines in string without the \\n escape character."
   ]
  },
  {
   "cell_type": "code",
   "execution_count": 3,
   "id": "96ea6a7e",
   "metadata": {},
   "outputs": [
    {
     "name": "stdout",
     "output_type": "stream",
     "text": [
      "iNeuron full stack\n",
      "Data Science Course\n"
     ]
    }
   ],
   "source": [
    "txt = '''iNeuron full stack\n",
    "Data Science Course'''\n",
    "print(txt)"
   ]
  },
  {
   "cell_type": "markdown",
   "id": "790b6e5b",
   "metadata": {},
   "source": [
    "**6. What are the values of the given expressions?**\\\n",
    "'Hello, world!'[1]\\\n",
    "'Hello, world!'[0:5]\\\n",
    "'Hello, world!'[:5]\\\n",
    "'Hello, world!'[3:]"
   ]
  },
  {
   "cell_type": "markdown",
   "id": "11e3ad86",
   "metadata": {},
   "source": [
    "**Ans:**\\\n",
    "'Hello, world!'[1] -> 'e' \\\n",
    "'Hello, world!'[0:5] -> 'Hello'\\\n",
    "'Hello, world!'[:5] -> 'Hello'\\\n",
    "'Hello, world!'[3:] -> 'lo, world!'"
   ]
  },
  {
   "cell_type": "markdown",
   "id": "4f53b257",
   "metadata": {},
   "source": [
    "**7. What are the values of the following expressions?**\\\n",
    "'Hello'.upper()\\\n",
    "'Hello'.upper().isupper()\\\n",
    "'Hello'.upper().lower()\n"
   ]
  },
  {
   "cell_type": "markdown",
   "id": "902f602e",
   "metadata": {},
   "source": [
    "**Ans:**\n",
    "'Hello'.upper() -> 'HELLO'\\\n",
    "'Hello'.upper().isupper() -> True\\\n",
    "'Hello'.upper().lower() -> 'hello'"
   ]
  },
  {
   "cell_type": "markdown",
   "id": "07d059e6",
   "metadata": {},
   "source": [
    "**8. What are the values of the following expressions?**\\\n",
    "'Remember, remember, the fifith of July.'.split()\\\n",
    "-'.join('There can only one'.split())"
   ]
  },
  {
   "cell_type": "markdown",
   "id": "1d814703",
   "metadata": {},
   "source": [
    "**Ans:** \n",
    "'Remember, remember, the fifith of July.'.split() ->  ['Remember,', 'remember,', 'the', 'fifith', 'of', 'July.'] \\\n",
    "'-'.join('There can only one'.split()) -> 'There-can-only-one'"
   ]
  },
  {
   "cell_type": "markdown",
   "id": "a6c3de0c",
   "metadata": {},
   "source": [
    "**9. What are the methods for right-justifying, left-justifying, and centering a string?**"
   ]
  },
  {
   "cell_type": "markdown",
   "id": "1990a07f",
   "metadata": {},
   "source": [
    "**Ans:** The rjust(),ljust(),center() string methods, respectively."
   ]
  },
  {
   "cell_type": "markdown",
   "id": "55f5ac5e",
   "metadata": {},
   "source": [
    "**10. What is the best way to remove whitespace characters from the start or end?**"
   ]
  },
  {
   "cell_type": "markdown",
   "id": "85bf9a9c",
   "metadata": {},
   "source": [
    "**Ans:** The lstrip() and rstrip() methods remove whitesapce characters from the left and right ends of a string respectively."
   ]
  }
 ],
 "metadata": {
  "kernelspec": {
   "display_name": "Python 3 (ipykernel)",
   "language": "python",
   "name": "python3"
  },
  "language_info": {
   "codemirror_mode": {
    "name": "ipython",
    "version": 3
   },
   "file_extension": ".py",
   "mimetype": "text/x-python",
   "name": "python",
   "nbconvert_exporter": "python",
   "pygments_lexer": "ipython3",
   "version": "3.9.12"
  }
 },
 "nbformat": 4,
 "nbformat_minor": 5
}

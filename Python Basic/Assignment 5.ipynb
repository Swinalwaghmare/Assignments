{
 "cells": [
  {
   "cell_type": "markdown",
   "id": "2c03048c",
   "metadata": {},
   "source": [
    "**1. What does an empty dictionary&#39;s code look like?**"
   ]
  },
  {
   "cell_type": "markdown",
   "id": "4e929783",
   "metadata": {},
   "source": [
    "**Ans:** Empty dict is one, which does not contain any (Key,Value) and whose length is 0"
   ]
  },
  {
   "cell_type": "code",
   "execution_count": 1,
   "id": "681ecaa5",
   "metadata": {},
   "outputs": [],
   "source": [
    "dict1 = {}\n",
    "#or\n",
    "dict2 = dict()"
   ]
  },
  {
   "cell_type": "markdown",
   "id": "a34fcc96",
   "metadata": {},
   "source": [
    "**2. What is the value of a dictionary value with the key 'foo' and the value 42?**"
   ]
  },
  {
   "cell_type": "markdown",
   "id": "ed55fa12",
   "metadata": {},
   "source": [
    "**Ans:** {'foo':42}"
   ]
  },
  {
   "cell_type": "markdown",
   "id": "bfc2332b",
   "metadata": {},
   "source": [
    "**3. What is the most significant distinction between a dictionary and a list?**"
   ]
  },
  {
   "cell_type": "markdown",
   "id": "d6ac57da",
   "metadata": {},
   "source": [
    "**Ans:** Dictionaries are represented by {} where as listed are represented by [] The Items stored in a dictionary are Unordered , while the items in a list are ordered"
   ]
  },
  {
   "cell_type": "markdown",
   "id": "8be2fbb9",
   "metadata": {},
   "source": [
    "**4. What happens if you try to access spam['foo'] if spam is {'bar': 100}?**"
   ]
  },
  {
   "cell_type": "markdown",
   "id": "e98fe73b",
   "metadata": {},
   "source": [
    "**Ans:** We will get keyError."
   ]
  },
  {
   "cell_type": "code",
   "execution_count": 2,
   "id": "fe436e9b",
   "metadata": {},
   "outputs": [
    {
     "ename": "KeyError",
     "evalue": "'foo'",
     "output_type": "error",
     "traceback": [
      "\u001b[1;31m---------------------------------------------------------------------------\u001b[0m",
      "\u001b[1;31mKeyError\u001b[0m                                  Traceback (most recent call last)",
      "Input \u001b[1;32mIn [2]\u001b[0m, in \u001b[0;36m<cell line: 2>\u001b[1;34m()\u001b[0m\n\u001b[0;32m      1\u001b[0m spam \u001b[38;5;241m=\u001b[39m {\u001b[38;5;124m'\u001b[39m\u001b[38;5;124mbar\u001b[39m\u001b[38;5;124m'\u001b[39m:\u001b[38;5;241m100\u001b[39m}\n\u001b[1;32m----> 2\u001b[0m \u001b[43mspam\u001b[49m\u001b[43m[\u001b[49m\u001b[38;5;124;43m'\u001b[39;49m\u001b[38;5;124;43mfoo\u001b[39;49m\u001b[38;5;124;43m'\u001b[39;49m\u001b[43m]\u001b[49m\n",
      "\u001b[1;31mKeyError\u001b[0m: 'foo'"
     ]
    }
   ],
   "source": [
    "spam = {'bar':100}\n",
    "spam['foo']"
   ]
  },
  {
   "cell_type": "markdown",
   "id": "4ad6789c",
   "metadata": {},
   "source": [
    "**5. If a dictionary is stored in spam, what is the difference between the expressions 'cat' in spam and 'cat' in spam.keys()?**\n"
   ]
  },
  {
   "cell_type": "markdown",
   "id": "d7e98972",
   "metadata": {},
   "source": [
    "**Ans:**  There is no difference . The operator checks whether a value exits as a key in the dictionary or not."
   ]
  },
  {
   "cell_type": "markdown",
   "id": "347feb1e",
   "metadata": {},
   "source": [
    "**6. If a dictionary is stored in spam, what is the difference between the expressions 'cat' in spam and 'cat' in spam.values()?**\n"
   ]
  },
  {
   "cell_type": "markdown",
   "id": "0c8a7e21",
   "metadata": {},
   "source": [
    "**Ans:** 'cat' in spam checks whether there is a 'cat' key in the dictionary, while 'cat' in spam.values() checks whether there is a value 'cat' for one of the keys in spam."
   ]
  },
  {
   "cell_type": "markdown",
   "id": "8af74a42",
   "metadata": {},
   "source": [
    "**7. What is a shortcut for the following code?**\\\n",
    "if 'color' not in spam: spam[&'color'] = 'black'"
   ]
  },
  {
   "cell_type": "markdown",
   "id": "9061b5ab",
   "metadata": {},
   "source": [
    "**Ans:** spam.setdefault('color','black')"
   ]
  },
  {
   "cell_type": "markdown",
   "id": "f4e2253c",
   "metadata": {},
   "source": [
    "**8. How do you &quot;pretty print&quot; dictionary values using which module and function?**"
   ]
  },
  {
   "cell_type": "markdown",
   "id": "03dc885b",
   "metadata": {},
   "source": [
    "**Ans:** \n",
    "- Using pprint() function of pprint module\n",
    "- by using dumps() method of json module\n",
    "- by using dump() method of yaml module"
   ]
  },
  {
   "cell_type": "code",
   "execution_count": 3,
   "id": "e87c4d74",
   "metadata": {},
   "outputs": [
    {
     "name": "stdout",
     "output_type": "stream",
     "text": [
      "using print() function\n",
      " {'age': 31, 'gender': 'male', 'Sports': ['Football', 'Cricket']}\n",
      "====================================================================================================\n",
      "using pprint() function\n",
      "{'Sports': ['Football', 'Cricket'], 'age': 31, 'gender': 'male'}\n",
      "====================================================================================================\n",
      "using dumps method of json module\n",
      "{\n",
      "    \"age\": 31,\n",
      "    \"gender\": \"male\",\n",
      "    \"Sports\": [\n",
      "        \"Football\",\n",
      "        \"Cricket\"\n",
      "    ]\n",
      "}\n",
      "====================================================================================================\n",
      "using dump method of yaml module\n",
      "Sports:\n",
      "- Football\n",
      "- Cricket\n",
      "age: 31\n",
      "gender: male\n",
      "\n",
      "====================================================================================================\n"
     ]
    }
   ],
   "source": [
    "sample_dict = {\n",
    "    'age': 31,\n",
    "    'gender': 'male',\n",
    "    'Sports': ['Football', 'Cricket']\n",
    "}\n",
    "\n",
    "print(\"using print() function\\n\",sample_dict)\n",
    "print(\"=\"*100)\n",
    "\n",
    "print(\"using pprint() function\")\n",
    "import pprint\n",
    "pprint.pprint(sample_dict)\n",
    "print(\"=\"*100)\n",
    "\n",
    "print(\"using dumps method of json module\")\n",
    "import json\n",
    "dump = json.dumps(sample_dict, indent=4)\n",
    "print(dump)\n",
    "print(\"=\"*100)\n",
    "\n",
    "print(\"using dump method of yaml module\")\n",
    "import yaml\n",
    "dump = yaml.dump(sample_dict)\n",
    "print(dump)\n",
    "print(\"=\"*100)"
   ]
  },
  {
   "cell_type": "code",
   "execution_count": null,
   "id": "d4f0fd31",
   "metadata": {},
   "outputs": [],
   "source": [
    "\n",
    "\n"
   ]
  }
 ],
 "metadata": {
  "kernelspec": {
   "display_name": "Python 3 (ipykernel)",
   "language": "python",
   "name": "python3"
  },
  "language_info": {
   "codemirror_mode": {
    "name": "ipython",
    "version": 3
   },
   "file_extension": ".py",
   "mimetype": "text/x-python",
   "name": "python",
   "nbconvert_exporter": "python",
   "pygments_lexer": "ipython3",
   "version": "3.9.12"
  }
 },
 "nbformat": 4,
 "nbformat_minor": 5
}

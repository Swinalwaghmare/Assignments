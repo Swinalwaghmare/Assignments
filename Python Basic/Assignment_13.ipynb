{
 "cells": [
  {
   "cell_type": "markdown",
   "id": "c16a80df",
   "metadata": {},
   "source": [
    "**1. What advantages do Excel spreadsheets have over CSV spreadsheets?**"
   ]
  },
  {
   "cell_type": "markdown",
   "id": "07ed65dd",
   "metadata": {},
   "source": [
    "**Ans:**\n",
    "Excel spreadsheets have advantages over CSV files due to their:\n",
    "1. Data formatting capabilities.\n",
    "2. Support for multiple sheets and formulas.\n",
    "3. Charting and graphing options.\n",
    "4. Data validation and protection features.\n",
    "5. Sorting and filtering capabilities.\n",
    "6. Macro support for automation."
   ]
  },
  {
   "cell_type": "markdown",
   "id": "5076d310",
   "metadata": {},
   "source": [
    "**2. What do you pass to csv.reader() and csv.writer() to create reader and writer objects?**"
   ]
  },
  {
   "cell_type": "code",
   "execution_count": 1,
   "id": "1da11b67",
   "metadata": {},
   "outputs": [
    {
     "name": "stdout",
     "output_type": "stream",
     "text": [
      "['Name', 'Salary', 'Job Type']\n",
      "['John', '5870', 'President']\n",
      "['Miller', '5500', 'Maneger']\n",
      "['david', '4000', 'Employee']\n"
     ]
    }
   ],
   "source": [
    "import csv\n",
    "with open(\"sample.csv\",'r') as file_obj:\n",
    "    csv = csv.reader(file_obj,delimiter=',')\n",
    "    for line in csv:\n",
    "        print(line)"
   ]
  },
  {
   "cell_type": "markdown",
   "id": "936a6f62",
   "metadata": {},
   "source": [
    "**3. What modes do File objects for reader and writer objects need to be opened in?**"
   ]
  },
  {
   "cell_type": "markdown",
   "id": "ad8fa9e8",
   "metadata": {},
   "source": [
    "**Ans:** for csv.reader(iterable_file_object), the file objects needed to be opened in read mode mode='r' Whereas for csv.writer(iterable_file_object) the file objects needed to be opened in write mode mode='w'"
   ]
  },
  {
   "cell_type": "markdown",
   "id": "305aa738",
   "metadata": {},
   "source": [
    "**4. What method takes a list argument and writes it to a CSV file?**"
   ]
  },
  {
   "cell_type": "code",
   "execution_count": 2,
   "id": "e72747d6",
   "metadata": {},
   "outputs": [],
   "source": [
    "import csv\n",
    "\n",
    "data = ['Adam', 600, 'cleark']\n",
    "\n",
    "with open('sample_output.csv', 'w', newline='') as file:\n",
    "    writer = csv.writer(file)\n",
    "    writer.writerow(data)"
   ]
  },
  {
   "cell_type": "markdown",
   "id": "e88ec211",
   "metadata": {},
   "source": [
    "**5. What do the keyword arguments delimiter and line terminator do?**"
   ]
  },
  {
   "cell_type": "markdown",
   "id": "68c944eb",
   "metadata": {},
   "source": [
    "**Ans:**\n",
    "- **delimiter:** The delimiter argument specifies the character used to separate fields within each row of the CSV file. \n",
    "- **line_terminator** : The line_terminator argument specifies the character sequence used to terminate each line in the CSV file."
   ]
  },
  {
   "cell_type": "markdown",
   "id": "debebb60",
   "metadata": {},
   "source": [
    "**6. What function takes a string of JSON data and returns a Python data structure?**"
   ]
  },
  {
   "cell_type": "markdown",
   "id": "09e72f26",
   "metadata": {},
   "source": [
    "**Ans:** The json.loads() function in Python is used to take a string of JSON data and convert it into a Python data structure. "
   ]
  },
  {
   "cell_type": "markdown",
   "id": "347dbc9b",
   "metadata": {},
   "source": [
    "**7. What function takes a Python data structure and returns a string of JSON data?**"
   ]
  },
  {
   "cell_type": "markdown",
   "id": "0a4ba690",
   "metadata": {},
   "source": [
    "**Ans:** The json.dumps() function in Python is used to take a Python data structure and convert it into a string of JSON data."
   ]
  }
 ],
 "metadata": {
  "kernelspec": {
   "display_name": "Python 3 (ipykernel)",
   "language": "python",
   "name": "python3"
  },
  "language_info": {
   "codemirror_mode": {
    "name": "ipython",
    "version": 3
   },
   "file_extension": ".py",
   "mimetype": "text/x-python",
   "name": "python",
   "nbconvert_exporter": "python",
   "pygments_lexer": "ipython3",
   "version": "3.9.12"
  }
 },
 "nbformat": 4,
 "nbformat_minor": 5
}

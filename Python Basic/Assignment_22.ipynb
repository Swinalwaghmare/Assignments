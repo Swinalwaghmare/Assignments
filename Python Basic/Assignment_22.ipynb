{
 "cells": [
  {
   "cell_type": "markdown",
   "id": "374bb255",
   "metadata": {},
   "source": [
    "**1. What is the result of the code, and explain?**\n",
    "\n",
    "&gt;&gt;&gt; X = &#39;iNeuron&#39;\n",
    "&gt;&gt;&gt; def func():\n",
    "print(X)\n",
    "\n",
    "&gt;&gt;&gt; func()"
   ]
  },
  {
   "cell_type": "markdown",
   "id": "3da09ffd",
   "metadata": {},
   "source": [
    "**Ans:** The result of this code is Ineuron we have first initilize the global variable X with value 'iNeuron' then we have created a function func() which print X then we have call the func() then func call goes to function head then inside the function check for local variable X but there we have not declared a local variable value of X that's why it global variable value of X which is \"iNeuron\". "
   ]
  },
  {
   "cell_type": "code",
   "execution_count": 1,
   "id": "3437864a",
   "metadata": {},
   "outputs": [
    {
     "name": "stdout",
     "output_type": "stream",
     "text": [
      "iNeuron\n"
     ]
    }
   ],
   "source": [
    "X = 'iNeuron'\n",
    "def func():\n",
    "    print(X)\n",
    "    \n",
    "func()"
   ]
  },
  {
   "cell_type": "markdown",
   "id": "451a83da",
   "metadata": {},
   "source": [
    "**2. What is the result of the code, and explain?**\n",
    "\n",
    "&gt;&gt;&gt; X = &#39;iNeuron&#39;\n",
    "&gt;&gt;&gt; def func():\n",
    "X = &#39;NI!&#39;\n",
    "\n",
    "&gt;&gt;&gt; func()\n",
    "&gt;&gt;&gt; print(X)\n"
   ]
  },
  {
   "cell_type": "markdown",
   "id": "2529fa5e",
   "metadata": {},
   "source": [
    "**Ans:** The result of this code is 'NI!' we have first initilize the global variable X with value 'iNeuron' then we have created a function func() inside the func we have create a local variable X with value 'NI!' then we have print X then we have call the func() then func call goes to function head then inside the function body  check for local variable X and as we know inside function body we have declared the X value 'NI!' so it overwritten the global variable value with this X and print the value of X as 'NI!'."
   ]
  },
  {
   "cell_type": "code",
   "execution_count": 2,
   "id": "01a7824a",
   "metadata": {},
   "outputs": [
    {
     "name": "stdout",
     "output_type": "stream",
     "text": [
      "NI!\n"
     ]
    }
   ],
   "source": [
    "X = 'iNeuron'\n",
    "def func():\n",
    "    X = 'NI!'\n",
    "    print(X)\n",
    "    \n",
    "func()"
   ]
  },
  {
   "cell_type": "markdown",
   "id": "07834930",
   "metadata": {},
   "source": [
    "**3. What does this code print, and why?**\n",
    "\n",
    "&gt;&gt;&gt; X = &#39;iNeuron&#39;\n",
    "&gt;&gt;&gt; def func():\n",
    "X = &#39;NI&#39;\n",
    "print(X)\n",
    "\n",
    "&gt;&gt;&gt; func()\n",
    "&gt;&gt;&gt; print(X)"
   ]
  },
  {
   "cell_type": "markdown",
   "id": "ba22874d",
   "metadata": {},
   "source": [
    "**Ans:** The result of this code is 'NI!' and 'iNeuron' In this code we have initializes the global variable X with the value 'iNeuron', creates a function named func() which initializes a local variable X to 'NI!', and prints the value of that variable X. Then it calls the function func(), which prints the value of the local variable X, 'NI!'. Finally, it prints the value of the global variable X, which is still 'iNeuron'. So, the output of this code would be 'NI!' on the first line and 'iNeuron' on the second line."
   ]
  },
  {
   "cell_type": "code",
   "execution_count": 3,
   "id": "673d8816",
   "metadata": {},
   "outputs": [
    {
     "name": "stdout",
     "output_type": "stream",
     "text": [
      "NI!\n",
      "iNeuron\n"
     ]
    }
   ],
   "source": [
    "X = 'iNeuron'\n",
    "def func():\n",
    "    X = 'NI!'\n",
    "    print(X)\n",
    "    \n",
    "func()\n",
    "print(X)"
   ]
  },
  {
   "cell_type": "markdown",
   "id": "c28119c7",
   "metadata": {},
   "source": [
    "**4. What output does this code produce? Why?**\n",
    "\n",
    "&gt;&gt;&gt; X = &#39;iNeuron&#39;\n",
    "&gt;&gt;&gt; def func():\n",
    "global X\n",
    "X = &#39;NI&#39;\n",
    "\n",
    "&gt;&gt;&gt; func()\n",
    "&gt;&gt;&gt; print(X)\n"
   ]
  },
  {
   "cell_type": "markdown",
   "id": "32671903",
   "metadata": {},
   "source": [
    "**Ans:** The output of the code is NI. the global keyword allows a variable to be accessible in the current scope. since we are using global keyword inside the function func it directly access the variable in X in global scope. and changes its value to NI. hence the output of the code is NI."
   ]
  },
  {
   "cell_type": "code",
   "execution_count": 4,
   "id": "e733af63",
   "metadata": {},
   "outputs": [
    {
     "name": "stdout",
     "output_type": "stream",
     "text": [
      "NI\n",
      "NI\n"
     ]
    }
   ],
   "source": [
    "X = 'iNeuron'\n",
    "def func():\n",
    "    global X\n",
    "    X = 'NI'\n",
    "    print(X)\n",
    "    \n",
    "func()\n",
    "print(X)"
   ]
  },
  {
   "cell_type": "markdown",
   "id": "ea0b308e",
   "metadata": {},
   "source": [
    "**5. What about this code—what’s the output, and why?**\n",
    "\n",
    "&gt;&gt;&gt; X = &#39;iNeuron&#39;\n",
    "&gt;&gt;&gt; def func():\n",
    "X = &#39;NI&#39;\n",
    "def nested():\n",
    "print(X)\n",
    "nested()\n",
    "\n",
    "&gt;&gt;&gt; func()\n",
    "&gt;&gt;&gt; X"
   ]
  },
  {
   "cell_type": "markdown",
   "id": "edd5ad18",
   "metadata": {},
   "source": [
    "**Ans:** The output of this code is NI and iNeuron. In this code, we have initialize the global variable X with the string value 'iNeuron'. Then we define a function named func() which initializes a local variable X to the value 'NI'. Within the func() function, we define another function named nested() which prints the value of the variable X. when we call the func() function, it in return calls the nested() function and prints the string value 'NI'. Finally, the value of X is printed outside of any function, which is 'iNeuron'."
   ]
  },
  {
   "cell_type": "code",
   "execution_count": 5,
   "id": "ea2ebf46",
   "metadata": {},
   "outputs": [
    {
     "name": "stdout",
     "output_type": "stream",
     "text": [
      "NI\n"
     ]
    },
    {
     "data": {
      "text/plain": [
       "'iNeuron'"
      ]
     },
     "execution_count": 5,
     "metadata": {},
     "output_type": "execute_result"
    }
   ],
   "source": [
    "X = 'iNeuron'\n",
    "def func():\n",
    "    X = 'NI'\n",
    "    def nested():\n",
    "        print(X)\n",
    "    nested()\n",
    "func()\n",
    "X"
   ]
  },
  {
   "cell_type": "markdown",
   "id": "f185a33d",
   "metadata": {},
   "source": [
    "**6. How about this code: what is its output in Python 3, and explain?**\n",
    "\n",
    "&gt;&gt;&gt; def func():\n",
    "X = &#39;NI&#39;\n",
    "def nested():\n",
    "nonlocal X\n",
    "X = &#39;Spam&#39;\n",
    "nested()\n",
    "print(X)\n",
    "\n",
    "&gt;&gt;&gt; func()\n"
   ]
  },
  {
   "cell_type": "markdown",
   "id": "dc17c948",
   "metadata": {},
   "source": [
    "**Ans:** The output of the code is Spam. nonlocal keyword in python is used to declare a variable as not local.Hence the statement X = \"Spam\" is modified in the global scope. hence the output of print(X) statement is Spam"
   ]
  },
  {
   "cell_type": "code",
   "execution_count": 6,
   "id": "fb91c3c9",
   "metadata": {},
   "outputs": [
    {
     "name": "stdout",
     "output_type": "stream",
     "text": [
      "Spam\n"
     ]
    }
   ],
   "source": [
    "def func():\n",
    "    X= 'NI'\n",
    "    def nested():\n",
    "        nonlocal X\n",
    "        X = 'Spam'\n",
    "    nested()\n",
    "    print(X)\n",
    "func()"
   ]
  }
 ],
 "metadata": {
  "kernelspec": {
   "display_name": "Python 3 (ipykernel)",
   "language": "python",
   "name": "python3"
  },
  "language_info": {
   "codemirror_mode": {
    "name": "ipython",
    "version": 3
   },
   "file_extension": ".py",
   "mimetype": "text/x-python",
   "name": "python",
   "nbconvert_exporter": "python",
   "pygments_lexer": "ipython3",
   "version": "3.9.12"
  }
 },
 "nbformat": 4,
 "nbformat_minor": 5
}

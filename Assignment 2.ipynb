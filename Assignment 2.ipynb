{
 "cells": [
  {
   "cell_type": "markdown",
   "id": "0a89e806",
   "metadata": {},
   "source": [
    "#### 1.What are the two values of the Boolean data type? How do you write them?"
   ]
  },
  {
   "cell_type": "markdown",
   "id": "05533e2e",
   "metadata": {},
   "source": [
    "* The purpose of bool datatype is that \" To store True or False values\" \n",
    "* Here True and False are keywords and treated as values for bool data types.\n",
    "* Internally True is taken as 1 and False is taken as 0\n",
    "* We write the T and F in capital other letter in lower case.\n",
    "Ex: True , False"
   ]
  },
  {
   "cell_type": "markdown",
   "id": "b32aeeae",
   "metadata": {},
   "source": [
    "#### 2. What are the three different types of Boolean operators?"
   ]
  },
  {
   "cell_type": "markdown",
   "id": "ed080463",
   "metadata": {},
   "source": [
    "The three type of Boolean operators are\n",
    "* and \n",
    "* or\n",
    "* not"
   ]
  },
  {
   "cell_type": "markdown",
   "id": "1bd9eff3",
   "metadata": {},
   "source": [
    "#### 3. Make a list of each Boolean operator's truth tables (i.e. every possible combination of Boolean values for the operator and what it evaluate)."
   ]
  },
  {
   "cell_type": "markdown",
   "id": "03071d53",
   "metadata": {},
   "source": [
    "* True and True : True\n",
    "* True and False : False\n",
    "* False and True : False\n",
    "* False and False : False\n",
    "* True or True : True\n",
    "* True or False : True\n",
    "* False or True : True\n",
    "* False or False : False\n",
    "* not True : False\n",
    "* not False : True"
   ]
  },
  {
   "cell_type": "markdown",
   "id": "b435cb33",
   "metadata": {},
   "source": [
    "###### Truth table and (0 is False and 1 is True)"
   ]
  },
  {
   "attachments": {
    "image.png": {
     "image/png": "[encoded data removed]"
    }
   },
   "cell_type": "markdown",
   "id": "4d77cb6c",
   "metadata": {},
   "source": [
    "![image.png](attachment:image.png)"
   ]
  },
  {
   "cell_type": "markdown",
   "id": "31f8cef6",
   "metadata": {},
   "source": [
    "###### Truth table or (0 is False and 1 is True)"
   ]
  },
  {
   "attachments": {
    "image.png": {
     "image/png": "[encoded data removed]"
    }
   },
   "cell_type": "markdown",
   "id": "60cc8930",
   "metadata": {},
   "source": [
    "![image.png](attachment:image.png)"
   ]
  },
  {
   "cell_type": "markdown",
   "id": "279e1f02",
   "metadata": {},
   "source": [
    "###### Truth table not (0 is False and 1 is True)"
   ]
  },
  {
   "attachments": {
    "image.png": {
     "image/png": "[encoded data removed]"
    }
   },
   "cell_type": "markdown",
   "id": "ac4e6f51",
   "metadata": {},
   "source": [
    "![image.png](attachment:image.png)"
   ]
  },
  {
   "cell_type": "markdown",
   "id": "59685689",
   "metadata": {},
   "source": [
    "#### 4. What are the values of the following expressions?"
   ]
  },
  {
   "cell_type": "markdown",
   "id": "514fc05e",
   "metadata": {},
   "source": [
    "* (5 > 4) and (3 == 5) : False \n",
    "* not (5>4) : False \n",
    "* (5 > 4) or (3 == 5) : True \n",
    "* not ((5 > 4) or (3 == 5)) : False \n",
    "* (True and True) and (True == False) : False \n",
    "* (not False) or (not True) :True"
   ]
  },
  {
   "cell_type": "markdown",
   "id": "58c5df9f",
   "metadata": {},
   "source": [
    "#### 5. What are the six comparison operators?"
   ]
  },
  {
   "cell_type": "markdown",
   "id": "7451a4f4",
   "metadata": {},
   "source": [
    "* '>' greater than\n",
    "* '<' less than\n",
    "* \"==\" equality\n",
    "* != not equal to\n",
    "* '>=' greater than equal to\n",
    "* '<=' less than equal to "
   ]
  },
  {
   "cell_type": "markdown",
   "id": "d07f12d1",
   "metadata": {},
   "source": [
    "#### 6. How do you tell the difference between the equal to and assignment operators?Describe a condition and when you would use one."
   ]
  },
  {
   "cell_type": "markdown",
   "id": "c3d45292",
   "metadata": {},
   "source": [
    "The purpose of assignment operator is that to transfer right hand side value expression to left hand side value and the purpose of equal to which is comes under relational operator is used to comapare Two values in which right hand side value in similar to left hand side value (which result always comes in Bool values) "
   ]
  },
  {
   "cell_type": "markdown",
   "id": "63250f1b",
   "metadata": {},
   "source": [
    "when we have to assign the value to the varaible then we use the assignment operator."
   ]
  },
  {
   "cell_type": "code",
   "execution_count": 7,
   "id": "09318235",
   "metadata": {},
   "outputs": [
    {
     "name": "stdout",
     "output_type": "stream",
     "text": [
      "10\n"
     ]
    }
   ],
   "source": [
    "a = 10\n",
    "b = a\n",
    "print(b)"
   ]
  },
  {
   "cell_type": "markdown",
   "id": "3076df7f",
   "metadata": {},
   "source": [
    "when we have to compare the two values with each other then we use equality operator."
   ]
  },
  {
   "cell_type": "code",
   "execution_count": 12,
   "id": "1e22b98e",
   "metadata": {},
   "outputs": [
    {
     "name": "stdout",
     "output_type": "stream",
     "text": [
      "True\n",
      "False\n"
     ]
    }
   ],
   "source": [
    "a = 10\n",
    "b = 10\n",
    "c = 15\n",
    "print(a == b)\n",
    "print(b == c)"
   ]
  },
  {
   "cell_type": "markdown",
   "id": "e1f16556",
   "metadata": {},
   "source": [
    "#### 7. Identify the three blocks in this code:\n",
    "spam = 0 \\\n",
    "if spam == 10:\\\n",
    "print('eggs') \\\n",
    "if spam > 5:\\\n",
    "print('bacon')\\\n",
    "else:\\\n",
    "print('ham')\\\n",
    "print('spam')\\\n",
    "print('spam')"
   ]
  },
  {
   "cell_type": "markdown",
   "id": "e5fd1457",
   "metadata": {},
   "source": [
    "answer: \n",
    "print('ham')\\\n",
    "print('spam')\\\n",
    "print('spam')"
   ]
  },
  {
   "cell_type": "markdown",
   "id": "28af7b30",
   "metadata": {},
   "source": [
    "#### 8. Write code that prints Hello if 1 is stored in spam, prints Howdy if 2 is stored in spam, and prints Greetings! if anything else is stored in spam."
   ]
  },
  {
   "cell_type": "code",
   "execution_count": 13,
   "id": "4036cfc1",
   "metadata": {},
   "outputs": [
    {
     "name": "stdout",
     "output_type": "stream",
     "text": [
      "Howdy\n"
     ]
    }
   ],
   "source": [
    "spam =  2\n",
    "\n",
    "if  spam == 1:\n",
    "    print(\"Hello\")\n",
    "\n",
    "elif spam == 2:\n",
    "    print(\"Howdy\")\n",
    "    \n",
    "else:\n",
    "    print(\"Greetings!\")\n"
   ]
  },
  {
   "cell_type": "markdown",
   "id": "84bfc23c",
   "metadata": {},
   "source": [
    "#### 9.If your programme is stuck in an endless loop, what keys you’ll press?"
   ]
  },
  {
   "cell_type": "markdown",
   "id": "9f7f70de",
   "metadata": {},
   "source": [
    "if the programme is stuck in endless loop we can stop the programme using in ctrl + c"
   ]
  },
  {
   "cell_type": "markdown",
   "id": "6bef663d",
   "metadata": {},
   "source": [
    "#### 10. How can you tell the difference between break and continue?"
   ]
  },
  {
   "cell_type": "markdown",
   "id": "0a5d44a3",
   "metadata": {},
   "source": [
    "* The purpose of break statement is that \"To terminate the execution of loop logically when certain condition is satisfied and PVM control comes of corresponding loop executes other statements in the program\".\n",
    "* when break statements takes place inside for loop or while loop then PVM will not executes corresponding else block of statements but it always executes other statements in the program.\n",
    "* Continue statements is used for making the PVM to go to the top of the loop without executing the following statements which are written after continue statements for that cureent iteration only.\n",
    "* when we use continue statements inside of loop then else part of corresponding loop also executes provided loop condition become false"
   ]
  },
  {
   "cell_type": "markdown",
   "id": "2164af72",
   "metadata": {},
   "source": [
    "#### 11. In a for loop, what is the difference between range(10), range(0, 10), and range(0, 10, 1)?"
   ]
  },
  {
   "cell_type": "markdown",
   "id": "5bf87358",
   "metadata": {},
   "source": [
    "* In a for loop in range(10) this statements generates the range of value between 0 to 9 this statement range start from 0 \n",
    "* In a for loop in range(0,10) this statements also generates the range of values between 0 to 9 in this statements range start from 0 to ending position (value -1).\n",
    "* In a for loop in range(0,10,1) this statements also generates the range of values between 0 to 9 with starting position 0 and ending position values - 1 with an interval of 1."
   ]
  },
  {
   "cell_type": "markdown",
   "id": "5cb47632",
   "metadata": {},
   "source": [
    "#### 12. Write a short program that prints the numbers 1 to 10 using a for loop. Then write an equivalent program that prints the numbers 1 to 10 using a while loop."
   ]
  },
  {
   "cell_type": "code",
   "execution_count": 16,
   "id": "f6c484d9",
   "metadata": {},
   "outputs": [
    {
     "name": "stdout",
     "output_type": "stream",
     "text": [
      "1\n",
      "2\n",
      "3\n",
      "4\n",
      "5\n",
      "6\n",
      "7\n",
      "8\n",
      "9\n",
      "10\n"
     ]
    }
   ],
   "source": [
    "##for loop\n",
    "for i in range(1,11):\n",
    "    print(i)"
   ]
  },
  {
   "cell_type": "code",
   "execution_count": 20,
   "id": "af4f3162",
   "metadata": {},
   "outputs": [
    {
     "name": "stdout",
     "output_type": "stream",
     "text": [
      "1\n",
      "2\n",
      "3\n",
      "4\n",
      "5\n",
      "6\n",
      "7\n",
      "8\n",
      "9\n",
      "10\n"
     ]
    }
   ],
   "source": [
    "##while loop\n",
    "i = 1\n",
    "while i <=10:\n",
    "    print(i)\n",
    "    i = i +1"
   ]
  },
  {
   "cell_type": "markdown",
   "id": "af408143",
   "metadata": {},
   "source": [
    "#### 13. If you had a function named bacon() inside a module named spam, how would you call it after importing spam?"
   ]
  },
  {
   "cell_type": "markdown",
   "id": "5a26a761",
   "metadata": {},
   "source": [
    "spam.bacon()"
   ]
  }
 ],
 "metadata": {
  "kernelspec": {
   "display_name": "Python 3 (ipykernel)",
   "language": "python",
   "name": "python3"
  },
  "language_info": {
   "codemirror_mode": {
    "name": "ipython",
    "version": 3
   },
   "file_extension": ".py",
   "mimetype": "text/x-python",
   "name": "python",
   "nbconvert_exporter": "python",
   "pygments_lexer": "ipython3",
   "version": "3.9.12"
  }
 },
 "nbformat": 4,
 "nbformat_minor": 5
}

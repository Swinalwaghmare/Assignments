{
 "cells": [
  {
   "cell_type": "markdown",
   "id": "89bcd940",
   "metadata": {},
   "source": [
    "#### 1. Write a Python program to print \"Hello Python\"?"
   ]
  },
  {
   "cell_type": "code",
   "execution_count": 2,
   "id": "cde68fc4",
   "metadata": {},
   "outputs": [
    {
     "name": "stdout",
     "output_type": "stream",
     "text": [
      "\"Hello Python\"\n"
     ]
    }
   ],
   "source": [
    "print('\"Hello Python\"')"
   ]
  },
  {
   "cell_type": "markdown",
   "id": "60a3c8dc",
   "metadata": {},
   "source": [
    "#### 2. Write a Python program to do arithmetical operations addition and division.?"
   ]
  },
  {
   "cell_type": "code",
   "execution_count": 3,
   "id": "ad333b53",
   "metadata": {},
   "outputs": [
    {
     "name": "stdout",
     "output_type": "stream",
     "text": [
      "Enter Number (x): 25\n",
      "Enter Number (y): 5\n",
      "Addition x + y:  30\n",
      "Division x / y:  5.0\n"
     ]
    }
   ],
   "source": [
    "x = int(input(\"Enter Number (x): \"))\n",
    "y = int(input(\"Enter Number (y): \"))\n",
    "print(\"Addition x + y: \",format(x+y))\n",
    "print(\"Division x / y: \",format(x/y))"
   ]
  },
  {
   "cell_type": "markdown",
   "id": "25d3c13c",
   "metadata": {},
   "source": [
    "#### 3. Write a Python program to find the area of a triangle?"
   ]
  },
  {
   "cell_type": "code",
   "execution_count": 4,
   "id": "da6d75d2",
   "metadata": {},
   "outputs": [
    {
     "name": "stdout",
     "output_type": "stream",
     "text": [
      "Enter base of triangle: 10\n",
      "Enter height of triangle: 5\n",
      "Area of triangl:  25.0\n"
     ]
    }
   ],
   "source": [
    "base = float(input(\"Enter base of triangle: \"))\n",
    "height = float(input(\"Enter height of triangle: \"))\n",
    "Area_of_triangle = (1/2)*base*height\n",
    "print(\"Area of triangl: \",Area_of_triangle)"
   ]
  },
  {
   "cell_type": "markdown",
   "id": "328819f9",
   "metadata": {},
   "source": [
    "#### 4. Write a Python program to swap two variables?"
   ]
  },
  {
   "cell_type": "code",
   "execution_count": 7,
   "id": "5d714840",
   "metadata": {},
   "outputs": [
    {
     "name": "stdout",
     "output_type": "stream",
     "text": [
      "original a:  50\n",
      "original b:  100\n",
      "swap a:  100\n",
      "swap b:  50\n"
     ]
    }
   ],
   "source": [
    "a = 50\n",
    "b = 100\n",
    "print(\"original a: \",a)\n",
    "print(\"original b: \",b)\n",
    "c = a\n",
    "a = b\n",
    "b = c\n",
    "print(\"swap a: \",a)\n",
    "print(\"swap b: \",b)"
   ]
  },
  {
   "cell_type": "markdown",
   "id": "08104e9d",
   "metadata": {},
   "source": [
    "#### 5. Write a Python program to generate a random number?"
   ]
  },
  {
   "cell_type": "code",
   "execution_count": 12,
   "id": "5a0a8d43",
   "metadata": {},
   "outputs": [
    {
     "name": "stdout",
     "output_type": "stream",
     "text": [
      "1\n"
     ]
    }
   ],
   "source": [
    "import random as r\n",
    "num = r.randrange(10)\n",
    "print(num)"
   ]
  }
 ],
 "metadata": {
  "kernelspec": {
   "display_name": "Python 3 (ipykernel)",
   "language": "python",
   "name": "python3"
  },
  "language_info": {
   "codemirror_mode": {
    "name": "ipython",
    "version": 3
   },
   "file_extension": ".py",
   "mimetype": "text/x-python",
   "name": "python",
   "nbconvert_exporter": "python",
   "pygments_lexer": "ipython3",
   "version": "3.9.12"
  }
 },
 "nbformat": 4,
 "nbformat_minor": 5
}

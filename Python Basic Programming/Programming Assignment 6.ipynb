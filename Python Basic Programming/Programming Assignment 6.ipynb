{
 "cells": [
  {
   "cell_type": "markdown",
   "id": "89b1ba27",
   "metadata": {},
   "source": [
    "#### 1. Write a Python Program to Display Fibonacci Sequence Using Recursion?"
   ]
  },
  {
   "cell_type": "code",
   "execution_count": 1,
   "id": "45d6974b",
   "metadata": {},
   "outputs": [
    {
     "name": "stdout",
     "output_type": "stream",
     "text": [
      "Fibonacci Sequence\n",
      "0\n",
      "1\n",
      "1\n",
      "2\n",
      "3\n"
     ]
    }
   ],
   "source": [
    "def fibon_by_recu(n):\n",
    "    if n<=1:\n",
    "        return n\n",
    "    else:\n",
    "        return(fibon_by_recu(n-1) + fibon_by_recu(n-2))\n",
    "\n",
    "number = 5\n",
    "if number <= 0:\n",
    "    print(\"Number is invalid enter a new number\")\n",
    "else:\n",
    "    print(\"Fibonacci Sequence\")\n",
    "    for i in range(number):\n",
    "        print(fibon_by_recu(i))"
   ]
  },
  {
   "cell_type": "markdown",
   "id": "aa561382",
   "metadata": {},
   "source": [
    "#### 2. Write a Python Program to Find Factorial of Number Using Recursion?"
   ]
  },
  {
   "cell_type": "code",
   "execution_count": 2,
   "id": "2005d074",
   "metadata": {},
   "outputs": [
    {
     "name": "stdout",
     "output_type": "stream",
     "text": [
      "The factorail of 3 is 6\n"
     ]
    }
   ],
   "source": [
    "def factorial(n):\n",
    "    if n==1:\n",
    "        return n\n",
    "    else:\n",
    "        return(n*factorial(n-1))\n",
    "\n",
    "num = 3\n",
    "print(\"The factorail of\",num,\"is\",factorial(num))"
   ]
  },
  {
   "cell_type": "markdown",
   "id": "c2c99b75",
   "metadata": {},
   "source": [
    "#### 3. Write a Python Program to calculate your Body Mass Index?"
   ]
  },
  {
   "cell_type": "code",
   "execution_count": 3,
   "id": "1c2e5fc6",
   "metadata": {},
   "outputs": [
    {
     "name": "stdout",
     "output_type": "stream",
     "text": [
      "Enter height in cm: 152\n",
      "Enter weight in kg: 60\n",
      "The Person Height 1.52 and Weight 60.0 is 25.97\n"
     ]
    }
   ],
   "source": [
    "height = float(input(\"Enter height in cm: \"))*0.01\n",
    "weight = float(input(\"Enter weight in kg: \"))\n",
    "\n",
    "\n",
    "BMI = round(weight/(height)**2,2)\n",
    "print(f\"The Person Height {height} and Weight {weight} is {BMI}\")"
   ]
  },
  {
   "cell_type": "markdown",
   "id": "e54ec6ae",
   "metadata": {},
   "source": [
    "#### 4. Write a Python Program to calculate the natural logarithm of any number?"
   ]
  },
  {
   "cell_type": "code",
   "execution_count": 4,
   "id": "c7a5c2c1",
   "metadata": {},
   "outputs": [
    {
     "name": "stdout",
     "output_type": "stream",
     "text": [
      "Enter a number: 10\n",
      "Log value:  2.302585092994046\n"
     ]
    }
   ],
   "source": [
    "import math\n",
    "\n",
    "n = int(input(\"Enter a number: \"))\n",
    "\n",
    "print(\"Log value: \", math.log(n))"
   ]
  },
  {
   "cell_type": "markdown",
   "id": "bacc173b",
   "metadata": {},
   "source": [
    "#### 5. Write a Python Program for cube sum of first n natural numbers?"
   ]
  },
  {
   "cell_type": "code",
   "execution_count": 5,
   "id": "b3c07458",
   "metadata": {},
   "outputs": [
    {
     "name": "stdout",
     "output_type": "stream",
     "text": [
      "Enter a number: 7\n",
      "The sum of n natural number:  784\n"
     ]
    }
   ],
   "source": [
    "def cube_sum():\n",
    "    n = int(input(\"Enter a number: \"))\n",
    "    if n<=0:\n",
    "        print(\"Enter a valid input\")\n",
    "    else:\n",
    "        l = []\n",
    "        for i in range(n+1):\n",
    "            l.append(i**3)\n",
    "        print(\"The sum of n natural number: \",sum(l))\n",
    "\n",
    "cube_sum()"
   ]
  }
 ],
 "metadata": {
  "kernelspec": {
   "display_name": "Python 3 (ipykernel)",
   "language": "python",
   "name": "python3"
  },
  "language_info": {
   "codemirror_mode": {
    "name": "ipython",
    "version": 3
   },
   "file_extension": ".py",
   "mimetype": "text/x-python",
   "name": "python",
   "nbconvert_exporter": "python",
   "pygments_lexer": "ipython3",
   "version": "3.9.12"
  }
 },
 "nbformat": 4,
 "nbformat_minor": 5
}

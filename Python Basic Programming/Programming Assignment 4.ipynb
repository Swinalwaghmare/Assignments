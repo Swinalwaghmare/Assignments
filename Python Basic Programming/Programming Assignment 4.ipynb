{
 "cells": [
  {
   "cell_type": "markdown",
   "id": "ab9342db",
   "metadata": {},
   "source": [
    "#### 1. Write a Python Program to Find the Factorial of a Number?"
   ]
  },
  {
   "cell_type": "code",
   "execution_count": 1,
   "id": "8aa97583",
   "metadata": {},
   "outputs": [
    {
     "name": "stdout",
     "output_type": "stream",
     "text": [
      "Enter a Number: 5\n",
      "Factorial of 5 is: 120\n"
     ]
    }
   ],
   "source": [
    "n = int(input(\"Enter a Number: \"))\n",
    "\n",
    "fact = 1\n",
    "for i in range(1,n+1):\n",
    "    fact = fact * i\n",
    "print(\"Factorial of {} is: {}\".format(n,fact))"
   ]
  },
  {
   "cell_type": "markdown",
   "id": "c2ebafe3",
   "metadata": {},
   "source": [
    "#### 2. Write a Python Program to Display the multiplication Table?"
   ]
  },
  {
   "cell_type": "code",
   "execution_count": 2,
   "id": "3ba4b1b2",
   "metadata": {},
   "outputs": [
    {
     "name": "stdout",
     "output_type": "stream",
     "text": [
      "Enter a Number: 9\n",
      "------------------------------\n",
      "\tTable of 9\n",
      "------------------------------\n",
      "\t9 X 1 = 9\n",
      "\t9 X 2 = 18\n",
      "\t9 X 3 = 27\n",
      "\t9 X 4 = 36\n",
      "\t9 X 5 = 45\n",
      "\t9 X 6 = 54\n",
      "\t9 X 7 = 63\n",
      "\t9 X 8 = 72\n",
      "\t9 X 9 = 81\n",
      "\t9 X 10 = 90\n",
      "------------------------------\n"
     ]
    }
   ],
   "source": [
    "n = int(input(\"Enter a Number: \"))\n",
    "\n",
    "print(\"-\"*30)\n",
    "print(\"\\tTable of {}\".format(n))\n",
    "print(\"-\"*30)\n",
    "for i in range(1,11):\n",
    "    print(\"\\t{} X {} = {}\".format(n,i,n*i))\n",
    "print(\"-\"*30)"
   ]
  },
  {
   "cell_type": "markdown",
   "id": "5b0cecd5",
   "metadata": {},
   "source": [
    "#### 3. Write a Python Program to Print the Fibonacci sequence?"
   ]
  },
  {
   "cell_type": "code",
   "execution_count": 3,
   "id": "d29c91fb",
   "metadata": {},
   "outputs": [
    {
     "name": "stdout",
     "output_type": "stream",
     "text": [
      "Enter a Number: 10\n",
      "0\n",
      "1\n",
      "1\n",
      "2\n",
      "3\n",
      "5\n",
      "8\n",
      "13\n",
      "21\n",
      "34\n"
     ]
    }
   ],
   "source": [
    "n = int(input(\"Enter a Number: \"))\n",
    "\n",
    "a = 0\n",
    "b = 1\n",
    "print(a)\n",
    "print(b)\n",
    "\n",
    "for i in range(2,n):\n",
    "    c = a+b\n",
    "    a = b\n",
    "    b = c\n",
    "    print(c)\n"
   ]
  },
  {
   "cell_type": "markdown",
   "id": "420f3706",
   "metadata": {},
   "source": [
    "#### 4. Write a Python Program to Check Armstrong Number?"
   ]
  },
  {
   "cell_type": "code",
   "execution_count": 4,
   "id": "bb2afeb3",
   "metadata": {},
   "outputs": [
    {
     "name": "stdout",
     "output_type": "stream",
     "text": [
      "Enter a Number: 370\n",
      "It is Armstrong Number\n"
     ]
    }
   ],
   "source": [
    "n = int(input(\"Enter a Number: \"))\n",
    "\n",
    "length = len(str(n))\n",
    "\n",
    "sum_value = 0\n",
    "for i in str(n):\n",
    "    sum_value = sum_value + (int(i)**length)\n",
    "    \n",
    "if n == sum_value:\n",
    "    print(\"It is Armstrong Number\")\n",
    "else:\n",
    "    print(\"Its not a Armstrong Number\")"
   ]
  },
  {
   "cell_type": "markdown",
   "id": "651eff08",
   "metadata": {},
   "source": [
    "#### 5. Write a Python Program to Find Armstrong Number in an Interval?"
   ]
  },
  {
   "cell_type": "code",
   "execution_count": 5,
   "id": "1cfd8f5e",
   "metadata": {},
   "outputs": [
    {
     "name": "stdout",
     "output_type": "stream",
     "text": [
      "Enter a lower bound number: 100\n",
      "Enter a Upper bound number: 10000\n",
      "153\n",
      "370\n",
      "371\n",
      "407\n",
      "1634\n",
      "8208\n",
      "9474\n"
     ]
    }
   ],
   "source": [
    "lower = int(input(\"Enter a lower bound number: \")) \n",
    "upper = int(input(\"Enter a Upper bound number: \")) \n",
    "\n",
    "for i in range(lower,upper+1): \n",
    "    length = len(str(i)) \n",
    "    sum_values = 0 \n",
    "    for j in str(i): \n",
    "        sum_values = sum_values + (int(j)**length) \n",
    "    if i == sum_values:\n",
    "        print(i)"
   ]
  },
  {
   "cell_type": "markdown",
   "id": "835b491f",
   "metadata": {},
   "source": [
    "#### 6. Write a Python Program to Find the Sum of Natural Numbers?"
   ]
  },
  {
   "cell_type": "code",
   "execution_count": 6,
   "id": "734d1883",
   "metadata": {},
   "outputs": [
    {
     "name": "stdout",
     "output_type": "stream",
     "text": [
      "Enter a Number: 9\n",
      "Sum:  45\n"
     ]
    }
   ],
   "source": [
    "n = int(input(\"Enter a Number: \"))\n",
    "\n",
    "count = 0\n",
    "if n>=0:\n",
    "    for i in range(1,n+1):\n",
    "        count = count +i\n",
    "    print(\"Sum: \",count)\n",
    "else:\n",
    "    print(\"Enter a Positive Number\")"
   ]
  }
 ],
 "metadata": {
  "kernelspec": {
   "display_name": "Python 3 (ipykernel)",
   "language": "python",
   "name": "python3"
  },
  "language_info": {
   "codemirror_mode": {
    "name": "ipython",
    "version": 3
   },
   "file_extension": ".py",
   "mimetype": "text/x-python",
   "name": "python",
   "nbconvert_exporter": "python",
   "pygments_lexer": "ipython3",
   "version": "3.9.12"
  }
 },
 "nbformat": 4,
 "nbformat_minor": 5
}

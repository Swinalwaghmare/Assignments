{
 "cells": [
  {
   "cell_type": "markdown",
   "id": "f09c6af4",
   "metadata": {},
   "source": [
    "#### 1. Write a Python Program to Find LCM?"
   ]
  },
  {
   "cell_type": "code",
   "execution_count": 1,
   "id": "e4ead01a",
   "metadata": {},
   "outputs": [
    {
     "name": "stdout",
     "output_type": "stream",
     "text": [
      "Enter first number: 4\n",
      "Enter second number: 6\n",
      "LCM is  12\n"
     ]
    }
   ],
   "source": [
    "n1 = int(input(\"Enter first number: \"))\n",
    "n2 = int(input(\"Enter second number: \")) \n",
    "\n",
    "for i in range(1,n1*n2+1):\n",
    "    if i%n1 ==0 and i%n2 ==0:\n",
    "        print(\"LCM is \",i)\n",
    "        break"
   ]
  },
  {
   "cell_type": "markdown",
   "id": "11e8471f",
   "metadata": {},
   "source": [
    "#### 2. Write a Python Program to Find HCF?"
   ]
  },
  {
   "cell_type": "code",
   "execution_count": 2,
   "id": "9f537efc",
   "metadata": {},
   "outputs": [
    {
     "name": "stdout",
     "output_type": "stream",
     "text": [
      "Enter first number: 60\n",
      "Enter second number: 20\n",
      "HCF is  20\n"
     ]
    }
   ],
   "source": [
    "n1 = int(input(\"Enter first number: \")) \n",
    "n2 = int(input(\"Enter second number: \"))\n",
    "\n",
    "while n1%n2 !=0:\n",
    "    rem = n1%n2 \n",
    "    n1 = n2 \n",
    "    n2 = rem \n",
    "    \n",
    "print(\"HCF is \",n2)\n",
    "        "
   ]
  },
  {
   "cell_type": "markdown",
   "id": "210a0264",
   "metadata": {},
   "source": [
    "#### 3. Write a Python Program to Convert Decimal to Binary, Octal and Hexadecimal?"
   ]
  },
  {
   "cell_type": "code",
   "execution_count": 3,
   "id": "a39167bf",
   "metadata": {},
   "outputs": [
    {
     "name": "stdout",
     "output_type": "stream",
     "text": [
      "Enter a number: 10\n",
      "10 to Binary is: 0b1010\n",
      "10 to Octal is: 0o12\n",
      "10 to Hexadecimal is: 0xa\n"
     ]
    }
   ],
   "source": [
    "n = int(input(\"Enter a number: \"))\n",
    "\n",
    "print(\"{} to Binary is: {}\".format(n,bin(n)))\n",
    "print(\"{} to Octal is: {}\".format(n,oct(n)))\n",
    "print(\"{} to Hexadecimal is: {}\".format(n,hex(n)))"
   ]
  },
  {
   "cell_type": "markdown",
   "id": "fa0de2cb",
   "metadata": {},
   "source": [
    "#### 4. Write a Python Program To Find ASCII value of a character?"
   ]
  },
  {
   "cell_type": "code",
   "execution_count": 4,
   "id": "ff4dac24",
   "metadata": {},
   "outputs": [
    {
     "name": "stdout",
     "output_type": "stream",
     "text": [
      "Enter a character: A\n",
      "A  ASCII values is 65\n"
     ]
    }
   ],
   "source": [
    "char = input(\"Enter a character: \")\n",
    "\n",
    "print(\"{}  ASCII values is {}\".format(char,ord(char)))"
   ]
  },
  {
   "cell_type": "markdown",
   "id": "aa18ba9f",
   "metadata": {},
   "source": [
    "#### 5. Write a Python Program to Make a Simple Calculator with 4 basic mathematical operations?"
   ]
  },
  {
   "cell_type": "code",
   "execution_count": 6,
   "id": "666b0ce5",
   "metadata": {},
   "outputs": [
    {
     "name": "stdout",
     "output_type": "stream",
     "text": [
      "------------------------------\n",
      "\tChoose the operation\n",
      "------------------------------\n",
      "\t1.Addition\n",
      "\t2.Subtraction\n",
      "\t3.Multiplication\n",
      "\t4.Division\n",
      "\t5.Exit\n",
      "------------------------------\n",
      "Enter a operation: 1\n",
      "Enter first number: 25\n",
      "Enter second number: 25\n",
      "25.0 + 25.0 = 50.0\n",
      "Enter a operation: 2\n",
      "Enter first number: 50\n",
      "Enter second number: 45\n",
      "50.0 - 45.0 = 5.0\n",
      "Enter a operation: 3\n",
      "Enter first number: 8\n",
      "Enter second number: 9\n",
      "8.0 X 9.0 = 72.0\n",
      "Enter a operation: 4\n",
      "Enter first number: 81\n",
      "Enter second number: 9\n",
      "81.0 / 9.0 = 9.0\n",
      "Enter a operation: 6\n",
      "Choosen operation is invalid\n",
      "Enter a operation: 5\n",
      "Thank you for using this program\n"
     ]
    }
   ],
   "source": [
    "def add(x,y):\n",
    "    return x+y\n",
    "\n",
    "def sub(x,y):\n",
    "    return x-y\n",
    "\n",
    "def mul(x,y):\n",
    "    return x*y\n",
    "\n",
    "def division(x,y):\n",
    "    return x/y\n",
    "    \n",
    "print(\"-\"*30)\n",
    "print(\"\\tChoose the operation\")\n",
    "print(\"-\"*30)\n",
    "print(\"\\t1.Addition\")\n",
    "print(\"\\t2.Subtraction\")\n",
    "print(\"\\t3.Multiplication\")\n",
    "print(\"\\t4.Division\")\n",
    "print(\"\\t5.Exit\")\n",
    "print(\"-\"*30)\n",
    "\n",
    "\n",
    "while(True):\n",
    "    n = int(input(\"Enter a operation: \"))\n",
    "    \n",
    "    if n>=1 and n<=4:\n",
    "        a = float(input(\"Enter first number: \"))\n",
    "        b = float(input(\"Enter second number: \"))\n",
    "        \n",
    "        if str(n) == \"1\":\n",
    "            print(\"{} + {} = {}\".format(a,b,add(a,b)))\n",
    "        \n",
    "        elif str(n) == \"2\":\n",
    "            print(\"{} - {} = {}\".format(a,b,sub(a,b)))\n",
    "        \n",
    "        elif str(n) == \"3\":\n",
    "            print(\"{} X {} = {}\".format(a,b,mul(a,b)))\n",
    "        \n",
    "        elif str(n) == \"4\":\n",
    "            print(\"{} / {} = {}\".format(a,b,division(a,b)))\n",
    "        \n",
    "    elif str(n) == \"5\":\n",
    "        print(\"Thank you for using this program\")\n",
    "        break\n",
    "        \n",
    "    else:\n",
    "        print(\"Choosen operation is invalid\")\n",
    "        "
   ]
  },
  {
   "cell_type": "code",
   "execution_count": null,
   "id": "bc4c9af5",
   "metadata": {},
   "outputs": [],
   "source": []
  }
 ],
 "metadata": {
  "kernelspec": {
   "display_name": "Python 3 (ipykernel)",
   "language": "python",
   "name": "python3"
  },
  "language_info": {
   "codemirror_mode": {
    "name": "ipython",
    "version": 3
   },
   "file_extension": ".py",
   "mimetype": "text/x-python",
   "name": "python",
   "nbconvert_exporter": "python",
   "pygments_lexer": "ipython3",
   "version": "3.9.12"
  }
 },
 "nbformat": 4,
 "nbformat_minor": 5
}

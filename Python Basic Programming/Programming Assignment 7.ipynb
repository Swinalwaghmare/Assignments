{
 "cells": [
  {
   "cell_type": "markdown",
   "id": "c8c8d889",
   "metadata": {},
   "source": [
    "#### 1. Write a Python Program to find sum of array?"
   ]
  },
  {
   "cell_type": "code",
   "execution_count": 1,
   "id": "9ea6763a",
   "metadata": {},
   "outputs": [
    {
     "name": "stdout",
     "output_type": "stream",
     "text": [
      "[0 1 2 3 4 5 6 7 8 9] : sum is 45\n"
     ]
    }
   ],
   "source": [
    "import numpy as np\n",
    "array = np.arange(10)\n",
    "\n",
    "print(f\"{array} : sum is {array.sum()}\")"
   ]
  },
  {
   "cell_type": "markdown",
   "id": "ac07af2c",
   "metadata": {},
   "source": [
    "#### 2. Write a Python Program to find largest element in an array?"
   ]
  },
  {
   "cell_type": "code",
   "execution_count": 2,
   "id": "3a42e132",
   "metadata": {},
   "outputs": [
    {
     "name": "stdout",
     "output_type": "stream",
     "text": [
      "[0 1 2 3 4 5 6 7 8 9] : max is 9\n"
     ]
    }
   ],
   "source": [
    "import numpy as np\n",
    "array = np.arange(10)\n",
    "\n",
    "print(f\"{array} : max is {array.argmax()}\")"
   ]
  },
  {
   "cell_type": "markdown",
   "id": "90b70a84",
   "metadata": {},
   "source": [
    "#### 3. Write a Python Program for array rotation?"
   ]
  },
  {
   "cell_type": "code",
   "execution_count": 3,
   "id": "1700cb1f",
   "metadata": {},
   "outputs": [
    {
     "name": "stdout",
     "output_type": "stream",
     "text": [
      "3 4 5 6 7 1 2 "
     ]
    }
   ],
   "source": [
    "def rotate(L,d,n):\n",
    "    k = L.index(d)\n",
    "    new_lis = []\n",
    "    new_lis = L[k+1:]+L[0:k+1]\n",
    "    return new_lis\n",
    "\n",
    "if __name__ == \"__main__\":\n",
    "    arr = [1,2,3,4,5,6,7]\n",
    "    d = 2\n",
    "    n = len(arr)\n",
    "    \n",
    "    arr = rotate(arr,d,n)\n",
    "    for i in arr:\n",
    "        print(i,end=\" \")\n"
   ]
  },
  {
   "cell_type": "markdown",
   "id": "43cea86f",
   "metadata": {},
   "source": [
    "#### 4. Write a Python Program to Split the array and add the first part to the end?"
   ]
  },
  {
   "cell_type": "code",
   "execution_count": 4,
   "id": "d0b14097",
   "metadata": {},
   "outputs": [
    {
     "name": "stdout",
     "output_type": "stream",
     "text": [
      "25 30 35 40 15 20 "
     ]
    }
   ],
   "source": [
    "def SplitArray(arr,n,k):\n",
    "    for i in range(0,k):\n",
    "        x = arr[0]\n",
    "        for j in range(0,n-1):\n",
    "            arr[j] = arr[j+1]\n",
    "        arr[n-1] = x\n",
    "        \n",
    "arr =[15,20,25,30,35,40]\n",
    "n = len(arr)\n",
    "position = 2\n",
    "SplitArray(arr,n,position)\n",
    "\n",
    "for i in range(0,n):\n",
    "    print(arr[i],end=' ')"
   ]
  },
  {
   "cell_type": "markdown",
   "id": "1161eb1a",
   "metadata": {},
   "source": [
    "#### 5. Write a Python Program to check if given array is Monotonic?"
   ]
  },
  {
   "cell_type": "code",
   "execution_count": 5,
   "id": "ad654a0a",
   "metadata": {},
   "outputs": [],
   "source": [
    "def is_monotonic(arr):\n",
    "    x,y = [], []\n",
    "    x.extend(arr)\n",
    "    y.extend(arr)\n",
    "    x.sort()\n",
    "    y.sort(reverse=True)\n",
    "    if(arr==x or arr==y):\n",
    "        return True\n",
    "    else:\n",
    "        return False"
   ]
  },
  {
   "cell_type": "code",
   "execution_count": 6,
   "id": "e0f36fae",
   "metadata": {},
   "outputs": [
    {
     "data": {
      "text/plain": [
       "True"
      ]
     },
     "execution_count": 6,
     "metadata": {},
     "output_type": "execute_result"
    }
   ],
   "source": [
    "a = [1,2,3,4,5]\n",
    "is_monotonic(a)"
   ]
  },
  {
   "cell_type": "code",
   "execution_count": 7,
   "id": "ea508e07",
   "metadata": {},
   "outputs": [
    {
     "data": {
      "text/plain": [
       "False"
      ]
     },
     "execution_count": 7,
     "metadata": {},
     "output_type": "execute_result"
    }
   ],
   "source": [
    "a = [ 7,5,4,8,7,9,4]\n",
    "is_monotonic(a)"
   ]
  }
 ],
 "metadata": {
  "kernelspec": {
   "display_name": "Python 3 (ipykernel)",
   "language": "python",
   "name": "python3"
  },
  "language_info": {
   "codemirror_mode": {
    "name": "ipython",
    "version": 3
   },
   "file_extension": ".py",
   "mimetype": "text/x-python",
   "name": "python",
   "nbconvert_exporter": "python",
   "pygments_lexer": "ipython3",
   "version": "3.9.12"
  }
 },
 "nbformat": 4,
 "nbformat_minor": 5
}

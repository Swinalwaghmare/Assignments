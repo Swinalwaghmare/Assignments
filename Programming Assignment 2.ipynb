{
 "cells": [
  {
   "cell_type": "markdown",
   "id": "e0a7f625",
   "metadata": {},
   "source": [
    "#### 1. Write a Python program to convert kilometers to miles?"
   ]
  },
  {
   "cell_type": "code",
   "execution_count": 5,
   "id": "3617d5dc",
   "metadata": {},
   "outputs": [
    {
     "name": "stdout",
     "output_type": "stream",
     "text": [
      "Enter a Kilometers: 25\n",
      "25.0 km in miles is 15.53\n"
     ]
    }
   ],
   "source": [
    "km = float(input(\"Enter a Kilometers: \"))\n",
    "miles = km*0.621371\n",
    "print(\"{} km in miles is {}\".format(km,\"%0.2f\"%miles))"
   ]
  },
  {
   "cell_type": "markdown",
   "id": "d7a5ce5c",
   "metadata": {},
   "source": [
    "#### 2. Write a Python program to convert Celsius to Fahrenheit?"
   ]
  },
  {
   "cell_type": "code",
   "execution_count": 6,
   "id": "deb1204f",
   "metadata": {},
   "outputs": [
    {
     "name": "stdout",
     "output_type": "stream",
     "text": [
      "Enter a Celsius: 32\n",
      "In celsius is 32.0 and in fahrenheit is 89.6 this.\n"
     ]
    }
   ],
   "source": [
    "celsius = float(input(\"Enter a Celsius: \"))\n",
    "fahrenheit = celsius*1.8+32\n",
    "print(\"In celsius is {} and in fahrenheit is {} this.\".format(celsius,fahrenheit))\n"
   ]
  },
  {
   "cell_type": "markdown",
   "id": "6a6ced07",
   "metadata": {},
   "source": [
    "#### 3. Write a Python program to display calendar?"
   ]
  },
  {
   "cell_type": "code",
   "execution_count": 8,
   "id": "149b6ad4",
   "metadata": {},
   "outputs": [
    {
     "name": "stdout",
     "output_type": "stream",
     "text": [
      "Enter year: 2022\n",
      "Enter month11\n",
      "   November 2022\n",
      "Mo Tu We Th Fr Sa Su\n",
      "    1  2  3  4  5  6\n",
      " 7  8  9 10 11 12 13\n",
      "14 15 16 17 18 19 20\n",
      "21 22 23 24 25 26 27\n",
      "28 29 30\n",
      "\n"
     ]
    }
   ],
   "source": [
    "import calendar\n",
    "\n",
    "year = int(input(\"Enter year: \"))\n",
    "month = int(input(\"Enter month\"))\n",
    "\n",
    "print(calendar.month(year,month))"
   ]
  },
  {
   "cell_type": "markdown",
   "id": "342baae2",
   "metadata": {},
   "source": [
    "#### 4. Write a Python program to solve quadratic equation?"
   ]
  },
  {
   "cell_type": "code",
   "execution_count": 18,
   "id": "f9697a9a",
   "metadata": {},
   "outputs": [
    {
     "name": "stdout",
     "output_type": "stream",
     "text": [
      "Enter value of a: 2\n",
      "Enter value of b: 6\n",
      "Enter value of c: 5\n",
      "The solutin are (-1.5+0.5j) and (-1.5-0.5j)\n"
     ]
    }
   ],
   "source": [
    "# quadratic equation ax2+bx+c=0\n",
    "# discriminant formula is b2-4ac**2\n",
    "import cmath\n",
    "\n",
    "a = int(input(\"Enter value of a: \"))\n",
    "b = int(input(\"Enter value of b: \"))\n",
    "c = int(input(\"Enter value of c: \"))\n",
    "\n",
    "# calculating discriminant\n",
    "d = (b**2)-(4*a*c)\n",
    "\n",
    "res1 = (-b + cmath.sqrt(d))/(2*a)\n",
    "res2 = (-b - cmath.sqrt(d))/(2*a)\n",
    "\n",
    "print(\"The solutin are {} and {}\".format(res1,res2))"
   ]
  },
  {
   "cell_type": "markdown",
   "id": "bb69e944",
   "metadata": {},
   "source": [
    "#### 5. Write a Python program to swap two variables without temp variable?"
   ]
  },
  {
   "cell_type": "code",
   "execution_count": 23,
   "id": "84c02676",
   "metadata": {},
   "outputs": [
    {
     "name": "stdout",
     "output_type": "stream",
     "text": [
      "Original value of a:  10\n",
      "Original value of b:  5\n",
      "------------------------------\n",
      "Swap value of a:  5\n",
      "Swap value of b:  10\n"
     ]
    }
   ],
   "source": [
    "a = 10\n",
    "b = 5 \n",
    "print(\"Original value of a: \",a)\n",
    "print(\"Original value of b: \",b)\n",
    "a,b = b,a\n",
    "print(\"-\"*30)\n",
    "print(\"Swap value of a: \",a)\n",
    "print(\"Swap value of b: \",b)"
   ]
  }
 ],
 "metadata": {
  "kernelspec": {
   "display_name": "Python 3 (ipykernel)",
   "language": "python",
   "name": "python3"
  },
  "language_info": {
   "codemirror_mode": {
    "name": "ipython",
    "version": 3
   },
   "file_extension": ".py",
   "mimetype": "text/x-python",
   "name": "python",
   "nbconvert_exporter": "python",
   "pygments_lexer": "ipython3",
   "version": "3.9.12"
  }
 },
 "nbformat": 4,
 "nbformat_minor": 5
}
